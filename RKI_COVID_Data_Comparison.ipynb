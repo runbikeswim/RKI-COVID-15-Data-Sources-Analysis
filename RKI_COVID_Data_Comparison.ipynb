{
 "cells": [
  {
   "cell_type": "markdown",
   "source": [
    "# Compare and Analyze Data on COVID-19 Infections Provided by the [Robert Koch Institute (RKI)](https://www.rki.de/EN/Home/homepage_node.html)"
   ],
   "metadata": {}
  },
  {
   "cell_type": "markdown",
   "source": [
    "The [Robert Koch Institute (RKI)](https://www.rki.de/EN/Home/homepage_node.html) is the federal government agency responsible for disease control and prevention in Germany. Is publishes data about COVID-19 for all of Germany and uses various channels for that (see [this](https://www.rki.de/EN/Content/infections/epidemiology/outbreaks/COVID-19/COVID19.html) page for an overview).\r\n",
    "\r\n",
    "This notebook has been created for analyzing and comparing data from two different sources that are updated by the RKI daily, but have a different level of detail. The main objective is to understand how the very fine grained numbers provided via github can be aggregated such that they match what is shown in the \r\n",
    "[RKI's COVID-19 dashboard](https://corona.rki.de/)."
   ],
   "metadata": {}
  },
  {
   "cell_type": "markdown",
   "source": [
    "## Preliminaries"
   ],
   "metadata": {}
  },
  {
   "cell_type": "code",
   "execution_count": 1,
   "source": [
    "import json\r\n",
    "\r\n",
    "import datetime as dt\r\n",
    "import numpy as np\r\n",
    "import pandas as pd\r\n",
    "\r\n",
    "from urllib.request import urlopen"
   ],
   "outputs": [],
   "metadata": {}
  },
  {
   "cell_type": "code",
   "execution_count": 2,
   "source": [
    "# define constants that are used for formatting output \r\n",
    " \r\n",
    "INTEGER_FORMAT_STR = \"{:,.0f}\"\r\n",
    "FOUR_DIGIT_YEAR_FORMAT_STR = \"{:.0f}\"\r\n",
    "LOW_PRECISION_FLOAT_FORMAT_STR = \"{:,.1f}\"\r\n",
    "MEDIUM_PRECISION_FLOAT_FORMAT_STR = \"{:,.3f}\"\r\n",
    "HIGH_PRECISION_FLOAT_FORMAT_STR = \"{:,.6f}\" \r\n",
    "PERCENT_FORMAT_STR = \"{:.2%}\"\r\n",
    "PER_THOUSAND_FORMATTER = lambda p: f\"{p*1000:.2f}\\u2030\"\r\n",
    "DATE_FORMATTER = lambda d: d.strftime(\"%m-%d\")\r\n",
    "DUMMY_FORMAT_STR = \"{:}\"\r\n",
    "\r\n",
    "FORMAT_MAPPER = {\"area\": INTEGER_FORMAT_STR,\r\n",
    "                 \"category\": DUMMY_FORMAT_STR,\r\n",
    "                 \"cases\": INTEGER_FORMAT_STR,\r\n",
    "                 \"cases last 7 days\": INTEGER_FORMAT_STR,\r\n",
    "                 \"cases per 100k\": LOW_PRECISION_FLOAT_FORMAT_STR,\r\n",
    "                 \"cases per pop.\": PERCENT_FORMAT_STR,\r\n",
    "                 \"cases last 7 days per 100k\": LOW_PRECISION_FLOAT_FORMAT_STR,\r\n",
    "                 \"deaths\": INTEGER_FORMAT_STR,\r\n",
    "                 \"deaths last 7 days\": INTEGER_FORMAT_STR,\r\n",
    "                 \"deaths per 100k\": HIGH_PRECISION_FLOAT_FORMAT_STR,\r\n",
    "                 \"deaths per pop.\": PER_THOUSAND_FORMATTER,\r\n",
    "                 \"deaths last 7 days per 100k\": MEDIUM_PRECISION_FLOAT_FORMAT_STR,\r\n",
    "                 \"death rate\": PERCENT_FORMAT_STR,\r\n",
    "                 \"death rate last 7 days\": PERCENT_FORMAT_STR,\r\n",
    "                 \"recovered\": INTEGER_FORMAT_STR,\r\n",
    "                 \"recovered last 7 days\": INTEGER_FORMAT_STR,\r\n",
    "                 \"recovered per 100k\": LOW_PRECISION_FLOAT_FORMAT_STR,\r\n",
    "                 \"recovered per pop.\": PERCENT_FORMAT_STR,\r\n",
    "                 \"recovered last 7 days per 100k\": LOW_PRECISION_FLOAT_FORMAT_STR,\r\n",
    "                 \"district name\": DUMMY_FORMAT_STR ,\r\n",
    "                 \"population\": INTEGER_FORMAT_STR,\r\n",
    "                 \"state ID\": DUMMY_FORMAT_STR,\r\n",
    "                 \"state name\": DUMMY_FORMAT_STR ,\r\n",
    "                 \"state pop.\": INTEGER_FORMAT_STR,\r\n",
    "                 \"update time\": DATE_FORMATTER,\r\n",
    "}"
   ],
   "outputs": [],
   "metadata": {}
  },
  {
   "cell_type": "markdown",
   "source": [
    "## Load and Analyze Data From the [NPGEO Corona Hub 2020](https://npgeo-corona-npgeo-de.hub.arcgis.com/)"
   ],
   "metadata": {}
  },
  {
   "cell_type": "markdown",
   "source": [
    "For all German districts, up-to-date COVID-19 data is available via [this](https://opendata.arcgis.com/datasets/917fc37a709542548cc3be077a786c17_0) page. This data appears to be the basis for the [COVID-19 dashboard](https://corona.rki.de/)."
   ],
   "metadata": {}
  },
  {
   "cell_type": "code",
   "execution_count": 3,
   "source": [
    "# URL for loading data as comma-seperated-data-file\r\n",
    "\r\n",
    "RKI_ARCGIS_URL = \"https://opendata.arcgis.com/datasets/917fc37a709542548cc3be077a786c17_0.csv\""
   ],
   "outputs": [],
   "metadata": {}
  },
  {
   "cell_type": "code",
   "execution_count": 4,
   "source": [
    "# dictionary for renaming and harmonizing column names \r\n",
    "\r\n",
    "RKI_ARCGIS_COLUMN_NAME_MAPPER = {\"cases7_per_100k\": \"cases last 7 days per 100k\",\r\n",
    "                                 \"cases7_lk\" : \"cases last 7 days\",\r\n",
    "                                 \"county\": \"district name\",\r\n",
    "                                 \"cases_per_100k\": \"cases per 100k\",\r\n",
    "                                 \"cases_per_population\": \"cases per pop.\",\r\n",
    "                                 \"cases\": \"cases\",\r\n",
    "                                 \"deaths\": \"deaths\",\r\n",
    "                                 \"death_rate\": \"death rate\",\r\n",
    "                                 \"death7_lk\": \"deaths last 7 days\",\r\n",
    "                                 \"EWZ\": \"population\",\r\n",
    "                                 \"BL_ID\": \"state ID\",\r\n",
    "                                 \"EWZ_BL\": \"state pop.\",\r\n",
    "                                 \"last_update\": \"update time\",\r\n",
    "                                 \"RS\": \"district ID\",\r\n",
    "                                 \"BEZ\": \"category\",\r\n",
    "                                 \"GEN\": \"municipality name\",\r\n",
    "                                 \"BL\": \"state name\",\r\n",
    "                                 \"KFL\": \"area\",\r\n",
    "}\r\n",
    "\r\n",
    "RKI_ARCGIS_VALUE_CONVERTERS = {\"last_update\": lambda s: dt.datetime.strptime(s, \"%d.%m.%Y, %H:%M Uhr\")}"
   ],
   "outputs": [],
   "metadata": {}
  },
  {
   "cell_type": "markdown",
   "source": [
    "### Read Data"
   ],
   "metadata": {}
  },
  {
   "cell_type": "code",
   "execution_count": 5,
   "source": [
    "# load main data, but restrict the created dataframe to the most relevant columns \r\n",
    "\r\n",
    "RKI_ARCGIS_COVID_BY_DISTRICT = \\\r\n",
    "    pd.read_csv(RKI_ARCGIS_URL, usecols=list(RKI_ARCGIS_COLUMN_NAME_MAPPER.keys()),\r\n",
    "                converters=RKI_ARCGIS_VALUE_CONVERTERS)\\\r\n",
    "        .rename(columns=RKI_ARCGIS_COLUMN_NAME_MAPPER)\\\r\n",
    "        .sort_values(by=\"district ID\")\\\r\n",
    "        .set_index(\"district ID\")\r\n",
    "\r\n",
    "# add column for the number of deaths within the last seven days adjusted to a population size of 100.000 people\r\n",
    "\r\n",
    "RKI_ARCGIS_COVID_BY_DISTRICT[\"deaths last 7 days per 100k\"] = \\\r\n",
    "    10**5 * RKI_ARCGIS_COVID_BY_DISTRICT[\"deaths last 7 days\"] \\\r\n",
    "    / RKI_ARCGIS_COVID_BY_DISTRICT[\"population\"]"
   ],
   "outputs": [],
   "metadata": {}
  },
  {
   "cell_type": "code",
   "execution_count": 6,
   "source": [
    "# print date of most recent entry in the loaded data\r\n",
    "\r\n",
    "print(RKI_ARCGIS_COVID_BY_DISTRICT[\"update time\"].max().strftime(\"last update is from %Y-%m-%d\"))"
   ],
   "outputs": [
    {
     "output_type": "stream",
     "name": "stdout",
     "text": [
      "last update is from 2021-09-20\n"
     ]
    }
   ],
   "metadata": {}
  },
  {
   "cell_type": "markdown",
   "source": [
    "## Load and Analyze RKI's Data on COVID-19 From [GitHub](https://github.com/robert-koch-institut/SARS-CoV-2_Infektionen_in_Deutschland)"
   ],
   "metadata": {}
  },
  {
   "cell_type": "markdown",
   "source": [
    "Repository [\"SARS-CoV-2 Infektionen in Deutschland\"](https://github.com/robert-koch-institut/SARS-CoV-2_Infektionen_in_Deutschland) (SARS-CoV-2 Infections in Germany) contains\r\n",
    "up-to-date numbers of COVID-19 cases in Germany. The data appears to be what is reported by the districts to the RKI as it lists new cases based on the reporting date, beginning of the disease (reference date), age group, sex and district.\r\n",
    "\r\n",
    "In [Readme.md](https://github.com/robert-koch-institut/SARS-CoV-2_Infektionen_in_Deutschland/blob/master/Readme.md), an explanation for the data is provided (in German). "
   ],
   "metadata": {}
  },
  {
   "cell_type": "code",
   "execution_count": 7,
   "source": [
    "# define constants for the URLs that give access to data\r\n",
    "\r\n",
    "RKI_GITHUB_REPOSITORY_URL = \"https://github.com/robert-koch-institut/SARS-CoV-2_Infektionen_in_Deutschland\"\r\n",
    "RKI_GITHUB_RAW_DATA_BASE_URL = RKI_GITHUB_REPOSITORY_URL + \"/raw/master\"\r\n",
    "RKI_GITHUB_ZENODO_REL_URL = \"/.zenodo.json\"\r\n",
    "RKI_GITHUB_COVID_INFECTIONS_REL_URL = \"/Aktuell_Deutschland_SarsCov2_Infektionen.csv\""
   ],
   "outputs": [],
   "metadata": {}
  },
  {
   "cell_type": "code",
   "execution_count": 8,
   "source": [
    "# dictionary for renaming and harmonizing column names \r\n",
    "\r\n",
    "RKI_GITHUB_COLUMN_NAME_MAPPER = {\r\n",
    "    \"IdLandkreis\": \"district ID\", \r\n",
    "    \"Gemeindename\": \"municipality name\", \r\n",
    "    \"Flaeche\": \"area\", \r\n",
    "    \"EW_insgesamt\": \"population\",\r\n",
    "    \"EW_maennlich\": \"population male\", \r\n",
    "    \"EW_weiblich\" : \"population female\",\r\n",
    "    \"Altersgruppe\": \"age group\", \r\n",
    "    \"Geschlecht\": \"sex\", \r\n",
    "    \"Meldedatum\": \"reporting date\", \r\n",
    "    \"Refdatum\": \"reference date\",\r\n",
    "    \"IstErkrankungsbeginn\": \"is start of desease\", \r\n",
    "    \"NeuerFall\": \"is new case\", \r\n",
    "    \"NeuerTodesfall\": \"is new death\", \r\n",
    "    \"NeuGenesen\": \"is new recovered\",\r\n",
    "    \"AnzahlFall\": \"cases\", \r\n",
    "    \"AnzahlTodesfall\": \"deaths\", \r\n",
    "    \"AnzahlGenesen\": \"recovered\",\r\n",
    "}\r\n",
    "\r\n",
    "unknown_converter = lambda s : \"unknown\" if s == \"unbekannt\" else s\r\n",
    "\r\n",
    "RKI_GITHUB_VALUE_CONVERTERS = {\r\n",
    "    \"Altersgruppe\": unknown_converter,\r\n",
    "    \"Geschlecht\": lambda s: \"F\" if s == \"W\" else unknown_converter(s), \r\n",
    "}\r\n",
    "\r\n",
    "# dictionary for setting the date type for some of the columns\r\n",
    "\r\n",
    "RKI_GITHUB_COLUMN_TYPES_MAPPER = {\r\n",
    "    \"district ID\": \"int16\",\r\n",
    "    \"reporting date\": \"datetime64\", \r\n",
    "    \"reference date\": \"datetime64\",\r\n",
    "    \"is start of desease\": \"int32\", \r\n",
    "    \"is new case\": \"int8\", \r\n",
    "    \"is new death\": \"int8\", \r\n",
    "    \"is new recovered\": \"int8\",\r\n",
    "}"
   ],
   "outputs": [],
   "metadata": {}
  },
  {
   "cell_type": "markdown",
   "source": [
    "### Read Metadata"
   ],
   "metadata": {}
  },
  {
   "cell_type": "markdown",
   "source": [
    "The RKI publishes metadata based on [zenodo's](https://about.zenodo.org/) JSON format. Here, it is used to detect the publication date of the data. Typically, this is shortly after 3 AM of the current day (local time in Germany). "
   ],
   "metadata": {}
  },
  {
   "cell_type": "code",
   "execution_count": 9,
   "source": [
    "RKI_GITHUB_METADATA = json.loads(urlopen(RKI_GITHUB_RAW_DATA_BASE_URL + RKI_GITHUB_ZENODO_REL_URL).read())\r\n",
    "RKI_GITHUB_PUBLICATION_DATE = pd.to_datetime(RKI_GITHUB_METADATA[\"publication_date\"])\r\n",
    "print(f\"publication date is {RKI_GITHUB_PUBLICATION_DATE:%Y-%m-%d %H:%M:%S%z}\")"
   ],
   "outputs": [
    {
     "output_type": "stream",
     "name": "stdout",
     "text": [
      "publication date is 2021-09-20 03:17:25+0200\n"
     ]
    }
   ],
   "metadata": {}
  },
  {
   "cell_type": "markdown",
   "source": [
    "### Read Data"
   ],
   "metadata": {}
  },
  {
   "cell_type": "markdown",
   "source": [
    "Load data describing COVID-19 infections and deaths etc."
   ],
   "metadata": {}
  },
  {
   "cell_type": "code",
   "execution_count": 10,
   "source": [
    "RKI_GITHUB_COVID_INFECTIONS = pd.read_csv(RKI_GITHUB_RAW_DATA_BASE_URL + RKI_GITHUB_COVID_INFECTIONS_REL_URL, \r\n",
    "                                    converters=RKI_GITHUB_VALUE_CONVERTERS)\\\r\n",
    "                            .rename(columns=RKI_GITHUB_COLUMN_NAME_MAPPER)\\\r\n",
    "                            .astype(RKI_GITHUB_COLUMN_TYPES_MAPPER)"
   ],
   "outputs": [],
   "metadata": {}
  },
  {
   "cell_type": "markdown",
   "source": [
    "### Trying to Understand [Readme.md](https://github.com/robert-koch-institut/SARS-CoV-2_Infektionen_in_Deutschland/blob/master/Readme.md)"
   ],
   "metadata": {}
  },
  {
   "cell_type": "markdown",
   "source": [
    "According to the text in file [Readme.md](https://github.com/robert-koch-institut/SARS-CoV-2_Infektionen_in_Deutschland/blob/master/Readme.md), are the values for the number of \r\n",
    "infected (column `cases` - `AnzahlFall` in the original data), deceased (column `deaths` - column `AnzahlTodesfall` before renaming) and recovered \r\n",
    "(column `recovered` - `AnzahlGenesen` before renaming) people, **[natural numbers](https://en.wikipedia.org/wiki/Natural_number)** (i.e. elements of {1,2,3 ...}). \r\n",
    "\r\n",
    "However, negative values seem to occur in the data. "
   ],
   "metadata": {}
  },
  {
   "cell_type": "code",
   "execution_count": 11,
   "source": [
    "# show that there are rows, for which the value in one of the columns \"cases\", \"deaths\" or \"recovered\" is negative\r\n",
    "\r\n",
    "((RKI_GITHUB_COVID_INFECTIONS[\"cases\"] < 0) |  \\\r\n",
    "    (RKI_GITHUB_COVID_INFECTIONS[\"deaths\"] < 0) |  \\\r\n",
    "        (RKI_GITHUB_COVID_INFECTIONS[\"recovered\"] < 0))\\\r\n",
    "            .value_counts()[True] > 0"
   ],
   "outputs": [
    {
     "output_type": "execute_result",
     "data": {
      "text/plain": [
       "True"
      ]
     },
     "metadata": {},
     "execution_count": 11
    }
   ],
   "metadata": {}
  },
  {
   "cell_type": "markdown",
   "source": [
    "Hence, despite what's stated in `Readme.md`, values of the respective columns are **integers** (i.e. elements of {... -3, -2, -1, 0,1,2,3 ...}) and **not** natural numbers. "
   ],
   "metadata": {}
  },
  {
   "cell_type": "markdown",
   "source": [
    "If one wants to determine to total number of COVID-19 cases reported in Germany, `Readme.md` seems to imply that only such rows should be considered for which the value \r\n",
    "column `is new case` (`NeuerFall` in the original data) is not 0, because 0 indicates that the respective case was already reported previously. \r\n",
    "\r\n",
    "Additionally, one would think that rows for which the values in column `is new case` is -1 should be subtracted, because this value indicates that cases have been falsely reported in the past.\r\n",
    "\r\n",
    "However, it appears that \r\n",
    "$$\r\n",
    "\r\n",
    " n = -1  \\Leftrightarrow c < 0\r\n",
    "$$ \r\n",
    "if $n$ stands for the value in column `is new case` and $c$ for the value in column `cases` in a row. This means that values for such rows should **not be subtracted but added** (since thy are negative)."
   ],
   "metadata": {}
  },
  {
   "cell_type": "code",
   "execution_count": 12,
   "source": [
    "# verify that in all rows of dataframe RKI_GITHUB_COVID_INFECTIONS, the value in column \"is new case\" == -1 iff the value in column \"cases\" is < 0\r\n",
    "\r\n",
    "equiv = lambda a,b: ((~a) | b) & ((~b) | a) \r\n",
    "equiv(RKI_GITHUB_COVID_INFECTIONS[\"is new case\"] == -1, RKI_GITHUB_COVID_INFECTIONS[\"cases\"] < 0).all()"
   ],
   "outputs": [
    {
     "output_type": "execute_result",
     "data": {
      "text/plain": [
       "True"
      ]
     },
     "metadata": {},
     "execution_count": 12
    }
   ],
   "metadata": {}
  },
  {
   "cell_type": "markdown",
   "source": [
    "Hence, it should be correct to simply add all values of column `cases`, where `is new case` is not 0 to get the total number of cases in Germany ..."
   ],
   "metadata": {}
  },
  {
   "cell_type": "code",
   "execution_count": 13,
   "source": [
    "# print the sum for column \"cases\", filtered by \"is new case\" != 0 (i.e. is new case) \r\n",
    "\r\n",
    "print(f'{RKI_GITHUB_COVID_INFECTIONS.loc[RKI_GITHUB_COVID_INFECTIONS[\"is new case\"] != 0, \"cases\"].sum():,d}')"
   ],
   "outputs": [
    {
     "output_type": "stream",
     "name": "stdout",
     "text": [
      "3,736\n"
     ]
    }
   ],
   "metadata": {}
  },
  {
   "cell_type": "markdown",
   "source": [
    "... but this number is **way too small**. \r\n",
    "\r\n",
    "The number that is shown on the dashboard can be retrieved from the data by adding _all positive values_ in column `cases`. "
   ],
   "metadata": {}
  },
  {
   "cell_type": "code",
   "execution_count": 14,
   "source": [
    "print(\"total cases for Germany:\")\r\n",
    "# print the sum for all positive values in column \"cases\" \r\n",
    "print(f' GitHub: {RKI_GITHUB_COVID_INFECTIONS.loc[RKI_GITHUB_COVID_INFECTIONS[\"cases\"] > 0, \"cases\"].sum():,d}')\r\n",
    "# sum of all cases in the data from ARCGIS\r\n",
    "print(f' ARCGIS: {RKI_ARCGIS_COVID_BY_DISTRICT[\"cases\"].sum():,d}')"
   ],
   "outputs": [
    {
     "output_type": "stream",
     "name": "stdout",
     "text": [
      "total cases for Germany:\n",
      " GitHub: 4,145,852\n",
      " ARCGIS: 4,145,852\n"
     ]
    }
   ],
   "metadata": {}
  },
  {
   "cell_type": "markdown",
   "source": [
    "### Compute Totals"
   ],
   "metadata": {}
  },
  {
   "cell_type": "markdown",
   "source": [
    "Based on te interpretation of the data described above, the sum of columns `cases`, `deaths` and `recovered` is calculated for each district.\r\n",
    "\r\n",
    "For the sake of convenience, a new dataframe is defined, in which negative values for the number of COVID-19 cases, deaths and recovered patients are set to zero. This is used later for the aggregation of data."
   ],
   "metadata": {}
  },
  {
   "cell_type": "code",
   "execution_count": 15,
   "source": [
    "# define dataframe that without the negative values in RKI_GITHUB_COVID_INFECTIONS\r\n",
    "\r\n",
    "RKI_GITHUB_COVID_INFECTIONS_WITHOUT_NEGATIVES = \\\r\n",
    "    pd.concat([RKI_GITHUB_COVID_INFECTIONS[[\"district ID\", \"age group\", \"sex\", \"reporting date\", \"reference date\"]], \r\n",
    "              RKI_GITHUB_COVID_INFECTIONS[[\"cases\", \"deaths\", \"recovered\"]].apply(lambda a: np.maximum(a,0))], \r\n",
    "              axis=\"columns\")"
   ],
   "outputs": [],
   "metadata": {}
  },
  {
   "cell_type": "code",
   "execution_count": 16,
   "source": [
    "#  sum up \"cases\", \"deaths\", \"recovered\" for each district\r\n",
    "RKI_GITHUB_COVID_BY_DISTRICT_TOTALS = \\\r\n",
    "    RKI_GITHUB_COVID_INFECTIONS_WITHOUT_NEGATIVES[[\"district ID\", \"cases\", \"deaths\", \"recovered\"]].groupby(by=\"district ID\").sum()\r\n",
    "\r\n",
    "# copy population size for each district from RKI_ARCGIS_COVID_BY_DISTRICT\r\n",
    "RKI_GITHUB_COVID_BY_DISTRICT_TOTALS[\"population\"] = RKI_ARCGIS_COVID_BY_DISTRICT[\"population\"]"
   ],
   "outputs": [],
   "metadata": {}
  },
  {
   "cell_type": "markdown",
   "source": [
    "### Compute Numbers per 100K People "
   ],
   "metadata": {}
  },
  {
   "cell_type": "markdown",
   "source": [
    "The sums in columns `cases`, `deaths` and `recovered` are normalized by the population size of the district. \r\n",
    "For the district's population size, the data from the [NPGEO Corona Hub 2020](https://npgeo-corona-npgeo-de.hub.arcgis.com/) is used."
   ],
   "metadata": {}
  },
  {
   "cell_type": "code",
   "execution_count": 17,
   "source": [
    "# define a new dataframe by dividing the totals by the population size of each district and multiplying that with 100,000\r\n",
    "\r\n",
    "RKI_GITHUB_COVID_BY_DISTRICT_PER_100K = \\\r\n",
    "    pd.DataFrame(data=10**5 * RKI_GITHUB_COVID_BY_DISTRICT_TOTALS[[\"cases\", \"deaths\", \"recovered\"]].values \\\r\n",
    "                 / np.array(3 * [RKI_GITHUB_COVID_BY_DISTRICT_TOTALS[\"population\"].values]).T,\r\n",
    "                 index=RKI_GITHUB_COVID_BY_DISTRICT_TOTALS.index,\r\n",
    "                 columns=[\"cases per 100k\", \"deaths per 100k\", \"recovered per 100k\"])"
   ],
   "outputs": [],
   "metadata": {}
  },
  {
   "cell_type": "markdown",
   "source": [
    "### Compute Totals for the Last Seven Days"
   ],
   "metadata": {}
  },
  {
   "cell_type": "markdown",
   "source": [
    "The values in columns `cases`, `deaths` and `recovered` of the last seven days are summed up."
   ],
   "metadata": {}
  },
  {
   "cell_type": "code",
   "execution_count": 18,
   "source": [
    "# define the date of the earlist data that should be considered\r\n",
    "number_of_days = 7 \r\n",
    "cut_off_date = np.datetime64(RKI_GITHUB_PUBLICATION_DATE.date() - dt.timedelta(days=number_of_days))\r\n",
    "\r\n",
    "# compute sums for data that has been reported on or after the cut_off_date\r\n",
    "RKI_GITHUB_COVID_BY_DISTRICT_LAST_7_DAYS_TOTALS = \\\r\n",
    "        RKI_GITHUB_COVID_INFECTIONS_WITHOUT_NEGATIVES.loc[RKI_GITHUB_COVID_INFECTIONS_WITHOUT_NEGATIVES[\"reporting date\"] >= cut_off_date]\\\r\n",
    "                .groupby(by=\"district ID\").sum()\\\r\n",
    "                .rename(columns={\"cases\": \"cases last 7 days\", \"deaths\": \"deaths last 7 days\", \"recovered\": \"recovered last 7 days\"})\r\n",
    "\r\n",
    "# ensure that there is data for each district by filling missing data with zeros\r\n",
    "# define a dataframe containing the most recent data of each district\r\n",
    "df = RKI_GITHUB_COVID_INFECTIONS_WITHOUT_NEGATIVES[[\"district ID\", \"reporting date\"]].sort_values(by=[\"district ID\", \"reporting date\"])\\\r\n",
    "        .groupby([\"district ID\"]).last()\r\n",
    "\r\n",
    "missing_rows = df.loc[df[\"reporting date\"] < cut_off_date].index.shape[0]\r\n",
    "if  missing_rows > 0:\r\n",
    "    # there are districts that have not reported data within the last 7 days\r\n",
    "    # create dataframe containing the zeroes filling the missing data \r\n",
    "    ddf = pd.DataFrame(data=np.zeros((missing_rows, RKI_GITHUB_COVID_BY_DISTRICT_LAST_7_DAYS_TOTALS.shape[1]), dtype=np.int64), \r\n",
    "                       index=df.loc[df[\"reporting date\"] < cut_off_date].index,\r\n",
    "                       columns=RKI_GITHUB_COVID_BY_DISTRICT_LAST_7_DAYS_TOTALS.columns)\r\n",
    "    # append zeros\r\n",
    "    RKI_GITHUB_COVID_BY_DISTRICT_LAST_7_DAYS_TOTALS = RKI_GITHUB_COVID_BY_DISTRICT_LAST_7_DAYS_TOTALS.append(ddf)"
   ],
   "outputs": [],
   "metadata": {}
  },
  {
   "cell_type": "markdown",
   "source": [
    "### Compute Numbers for the Last Seven Days per 100K People "
   ],
   "metadata": {}
  },
  {
   "cell_type": "markdown",
   "source": [
    "Normalize the sums for the last seven days by the districts' population size "
   ],
   "metadata": {}
  },
  {
   "cell_type": "code",
   "execution_count": 19,
   "source": [
    "# define a new dataframe computing values by dividing the totals for the last seven days by the population size of each district and multiplying it with 100,000\r\n",
    " \r\n",
    "RKI_GITHUB_COVID_BY_DISTRICT_LAST_7_DAYS_PER_100K = \\\r\n",
    "    pd.DataFrame(data=10**5 * RKI_GITHUB_COVID_BY_DISTRICT_LAST_7_DAYS_TOTALS.values \\\r\n",
    "                 / np.array(3 * [RKI_GITHUB_COVID_BY_DISTRICT_TOTALS.loc[RKI_GITHUB_COVID_BY_DISTRICT_LAST_7_DAYS_TOTALS.index, \"population\"].values]).T,\r\n",
    "                 index=RKI_GITHUB_COVID_BY_DISTRICT_LAST_7_DAYS_TOTALS.index,\r\n",
    "                 columns=[\"cases last 7 days per 100k\", \"deaths last 7 days per 100k\", \"recovered last 7 days per 100k\"])"
   ],
   "outputs": [],
   "metadata": {}
  },
  {
   "cell_type": "markdown",
   "source": [
    "### Create a DataFrame Containing all Values Derived From the COVID-19 Data from GitHub"
   ],
   "metadata": {}
  },
  {
   "cell_type": "code",
   "execution_count": 20,
   "source": [
    "# combine all of the dataframes with data that has been derived from RKI_GITHUB_COVID_INFECTIONS into one dataframe, \r\n",
    "# only the district names are taken from RKI_ARCGIS_COVID_BY_DISTRICT\r\n",
    "\r\n",
    "RKI_GITHUB_COVID_BY_DISTRICT = \\\r\n",
    "    pd.concat([RKI_ARCGIS_COVID_BY_DISTRICT[\"district name\"],\r\n",
    "               RKI_GITHUB_COVID_BY_DISTRICT_TOTALS, \r\n",
    "               RKI_GITHUB_COVID_BY_DISTRICT_PER_100K, \r\n",
    "               RKI_GITHUB_COVID_BY_DISTRICT_LAST_7_DAYS_TOTALS,\r\n",
    "               RKI_GITHUB_COVID_BY_DISTRICT_LAST_7_DAYS_PER_100K], axis=\"columns\")"
   ],
   "outputs": [],
   "metadata": {}
  },
  {
   "cell_type": "markdown",
   "source": [
    "## Verify that Derived Data From the [COVID-19 Data from GitHub](https://github.com/robert-koch-institut/SARS-CoV-2_Infektionen_in_Deutschland) and the Data From [NPGEO Corona Hub 2020](https://npgeo-corona-npgeo-de.hub.arcgis.com/) are (More or Less) Identical"
   ],
   "metadata": {}
  },
  {
   "cell_type": "code",
   "execution_count": 21,
   "source": [
    "EPSILON = 10**-11 # threshold for treating float values as zero\r\n",
    "common_columns = list(set(RKI_ARCGIS_COVID_BY_DISTRICT.columns) & set(RKI_GITHUB_COVID_BY_DISTRICT.columns)) \r\n",
    "common_numerical_columns = [c for c in common_columns if RKI_GITHUB_COVID_BY_DISTRICT[c].dtypes != object]\r\n",
    "\r\n",
    "# return True, if all the differences between the absolute values in the common numerical columns is smaller than the threshold\r\n",
    "\r\n",
    "np.max(np.max(np.abs(RKI_ARCGIS_COVID_BY_DISTRICT[common_numerical_columns] - RKI_GITHUB_COVID_BY_DISTRICT[common_numerical_columns]))) < EPSILON"
   ],
   "outputs": [
    {
     "output_type": "execute_result",
     "data": {
      "text/plain": [
       "True"
      ]
     },
     "metadata": {},
     "execution_count": 21
    }
   ],
   "metadata": {}
  },
  {
   "cell_type": "markdown",
   "source": [
    "## Show Some Data"
   ],
   "metadata": {}
  },
  {
   "cell_type": "markdown",
   "source": [
    "Based on the result of the verification above, it seems that the interpretation of the data that is provided via GitHub is correct ... or at least identical with what is shown\r\n",
    "in the COVID-19 Dashboard. Hence, the following list the most affected districts in Germany can be assumed to be correct."
   ],
   "metadata": {}
  },
  {
   "cell_type": "code",
   "execution_count": 22,
   "source": [
    "n = 30\r\n",
    "RKI_GITHUB_COVID_BY_DISTRICT.sort_values(by=\"cases last 7 days per 100k\", ascending=False).head(n).style.hide_index().format(FORMAT_MAPPER)"
   ],
   "outputs": [
    {
     "output_type": "execute_result",
     "data": {
      "text/html": [
       "<style type=\"text/css\">\n",
       "</style>\n",
       "<table id=\"T_47203_\">\n",
       "  <thead>\n",
       "    <tr>\n",
       "      <th class=\"col_heading level0 col0\" >district name</th>\n",
       "      <th class=\"col_heading level0 col1\" >cases</th>\n",
       "      <th class=\"col_heading level0 col2\" >deaths</th>\n",
       "      <th class=\"col_heading level0 col3\" >recovered</th>\n",
       "      <th class=\"col_heading level0 col4\" >population</th>\n",
       "      <th class=\"col_heading level0 col5\" >cases per 100k</th>\n",
       "      <th class=\"col_heading level0 col6\" >deaths per 100k</th>\n",
       "      <th class=\"col_heading level0 col7\" >recovered per 100k</th>\n",
       "      <th class=\"col_heading level0 col8\" >cases last 7 days</th>\n",
       "      <th class=\"col_heading level0 col9\" >deaths last 7 days</th>\n",
       "      <th class=\"col_heading level0 col10\" >recovered last 7 days</th>\n",
       "      <th class=\"col_heading level0 col11\" >cases last 7 days per 100k</th>\n",
       "      <th class=\"col_heading level0 col12\" >deaths last 7 days per 100k</th>\n",
       "      <th class=\"col_heading level0 col13\" >recovered last 7 days per 100k</th>\n",
       "    </tr>\n",
       "  </thead>\n",
       "  <tbody>\n",
       "    <tr>\n",
       "      <td id=\"T_47203_row0_col0\" class=\"data row0 col0\" >LK Traunstein</td>\n",
       "      <td id=\"T_47203_row0_col1\" class=\"data row0 col1\" >12,333</td>\n",
       "      <td id=\"T_47203_row0_col2\" class=\"data row0 col2\" >218</td>\n",
       "      <td id=\"T_47203_row0_col3\" class=\"data row0 col3\" >11,467</td>\n",
       "      <td id=\"T_47203_row0_col4\" class=\"data row0 col4\" >177,485</td>\n",
       "      <td id=\"T_47203_row0_col5\" class=\"data row0 col5\" >6,948.8</td>\n",
       "      <td id=\"T_47203_row0_col6\" class=\"data row0 col6\" >122.827281</td>\n",
       "      <td id=\"T_47203_row0_col7\" class=\"data row0 col7\" >6,460.8</td>\n",
       "      <td id=\"T_47203_row0_col8\" class=\"data row0 col8\" >387</td>\n",
       "      <td id=\"T_47203_row0_col9\" class=\"data row0 col9\" >0</td>\n",
       "      <td id=\"T_47203_row0_col10\" class=\"data row0 col10\" >2</td>\n",
       "      <td id=\"T_47203_row0_col11\" class=\"data row0 col11\" >218.0</td>\n",
       "      <td id=\"T_47203_row0_col12\" class=\"data row0 col12\" >0.000</td>\n",
       "      <td id=\"T_47203_row0_col13\" class=\"data row0 col13\" >1.1</td>\n",
       "    </tr>\n",
       "    <tr>\n",
       "      <td id=\"T_47203_row1_col0\" class=\"data row1 col0\" >SK Bremerhaven</td>\n",
       "      <td id=\"T_47203_row1_col1\" class=\"data row1 col1\" >5,619</td>\n",
       "      <td id=\"T_47203_row1_col2\" class=\"data row1 col2\" >108</td>\n",
       "      <td id=\"T_47203_row1_col3\" class=\"data row1 col3\" >4,763</td>\n",
       "      <td id=\"T_47203_row1_col4\" class=\"data row1 col4\" >113,557</td>\n",
       "      <td id=\"T_47203_row1_col5\" class=\"data row1 col5\" >4,948.2</td>\n",
       "      <td id=\"T_47203_row1_col6\" class=\"data row1 col6\" >95.106422</td>\n",
       "      <td id=\"T_47203_row1_col7\" class=\"data row1 col7\" >4,194.4</td>\n",
       "      <td id=\"T_47203_row1_col8\" class=\"data row1 col8\" >244</td>\n",
       "      <td id=\"T_47203_row1_col9\" class=\"data row1 col9\" >1</td>\n",
       "      <td id=\"T_47203_row1_col10\" class=\"data row1 col10\" >2</td>\n",
       "      <td id=\"T_47203_row1_col11\" class=\"data row1 col11\" >214.9</td>\n",
       "      <td id=\"T_47203_row1_col12\" class=\"data row1 col12\" >0.881</td>\n",
       "      <td id=\"T_47203_row1_col13\" class=\"data row1 col13\" >1.8</td>\n",
       "    </tr>\n",
       "    <tr>\n",
       "      <td id=\"T_47203_row2_col0\" class=\"data row2 col0\" >LK Berchtesgadener Land</td>\n",
       "      <td id=\"T_47203_row2_col1\" class=\"data row2 col1\" >7,035</td>\n",
       "      <td id=\"T_47203_row2_col2\" class=\"data row2 col2\" >102</td>\n",
       "      <td id=\"T_47203_row2_col3\" class=\"data row2 col3\" >6,594</td>\n",
       "      <td id=\"T_47203_row2_col4\" class=\"data row2 col4\" >106,327</td>\n",
       "      <td id=\"T_47203_row2_col5\" class=\"data row2 col5\" >6,616.4</td>\n",
       "      <td id=\"T_47203_row2_col6\" class=\"data row2 col6\" >95.930479</td>\n",
       "      <td id=\"T_47203_row2_col7\" class=\"data row2 col7\" >6,201.6</td>\n",
       "      <td id=\"T_47203_row2_col8\" class=\"data row2 col8\" >211</td>\n",
       "      <td id=\"T_47203_row2_col9\" class=\"data row2 col9\" >0</td>\n",
       "      <td id=\"T_47203_row2_col10\" class=\"data row2 col10\" >5</td>\n",
       "      <td id=\"T_47203_row2_col11\" class=\"data row2 col11\" >198.4</td>\n",
       "      <td id=\"T_47203_row2_col12\" class=\"data row2 col12\" >0.000</td>\n",
       "      <td id=\"T_47203_row2_col13\" class=\"data row2 col13\" >4.7</td>\n",
       "    </tr>\n",
       "    <tr>\n",
       "      <td id=\"T_47203_row3_col0\" class=\"data row3 col0\" >SK Neustadt a.d.Weinstraße</td>\n",
       "      <td id=\"T_47203_row3_col1\" class=\"data row3 col1\" >2,116</td>\n",
       "      <td id=\"T_47203_row3_col2\" class=\"data row3 col2\" >39</td>\n",
       "      <td id=\"T_47203_row3_col3\" class=\"data row3 col3\" >1,808</td>\n",
       "      <td id=\"T_47203_row3_col4\" class=\"data row3 col4\" >53,306</td>\n",
       "      <td id=\"T_47203_row3_col5\" class=\"data row3 col5\" >3,969.5</td>\n",
       "      <td id=\"T_47203_row3_col6\" class=\"data row3 col6\" >73.162496</td>\n",
       "      <td id=\"T_47203_row3_col7\" class=\"data row3 col7\" >3,391.7</td>\n",
       "      <td id=\"T_47203_row3_col8\" class=\"data row3 col8\" >100</td>\n",
       "      <td id=\"T_47203_row3_col9\" class=\"data row3 col9\" >0</td>\n",
       "      <td id=\"T_47203_row3_col10\" class=\"data row3 col10\" >2</td>\n",
       "      <td id=\"T_47203_row3_col11\" class=\"data row3 col11\" >187.6</td>\n",
       "      <td id=\"T_47203_row3_col12\" class=\"data row3 col12\" >0.000</td>\n",
       "      <td id=\"T_47203_row3_col13\" class=\"data row3 col13\" >3.8</td>\n",
       "    </tr>\n",
       "    <tr>\n",
       "      <td id=\"T_47203_row4_col0\" class=\"data row4 col0\" >LK Rosenheim</td>\n",
       "      <td id=\"T_47203_row4_col1\" class=\"data row4 col1\" >15,865</td>\n",
       "      <td id=\"T_47203_row4_col2\" class=\"data row4 col2\" >468</td>\n",
       "      <td id=\"T_47203_row4_col3\" class=\"data row4 col3\" >14,359</td>\n",
       "      <td id=\"T_47203_row4_col4\" class=\"data row4 col4\" >261,721</td>\n",
       "      <td id=\"T_47203_row4_col5\" class=\"data row4 col5\" >6,061.8</td>\n",
       "      <td id=\"T_47203_row4_col6\" class=\"data row4 col6\" >178.816373</td>\n",
       "      <td id=\"T_47203_row4_col7\" class=\"data row4 col7\" >5,486.4</td>\n",
       "      <td id=\"T_47203_row4_col8\" class=\"data row4 col8\" >471</td>\n",
       "      <td id=\"T_47203_row4_col9\" class=\"data row4 col9\" >0</td>\n",
       "      <td id=\"T_47203_row4_col10\" class=\"data row4 col10\" >3</td>\n",
       "      <td id=\"T_47203_row4_col11\" class=\"data row4 col11\" >180.0</td>\n",
       "      <td id=\"T_47203_row4_col12\" class=\"data row4 col12\" >0.000</td>\n",
       "      <td id=\"T_47203_row4_col13\" class=\"data row4 col13\" >1.1</td>\n",
       "    </tr>\n",
       "    <tr>\n",
       "      <td id=\"T_47203_row5_col0\" class=\"data row5 col0\" >SK Offenbach</td>\n",
       "      <td id=\"T_47203_row5_col1\" class=\"data row5 col1\" >10,677</td>\n",
       "      <td id=\"T_47203_row5_col2\" class=\"data row5 col2\" >185</td>\n",
       "      <td id=\"T_47203_row5_col3\" class=\"data row5 col3\" >9,934</td>\n",
       "      <td id=\"T_47203_row5_col4\" class=\"data row5 col4\" >130,892</td>\n",
       "      <td id=\"T_47203_row5_col5\" class=\"data row5 col5\" >8,157.1</td>\n",
       "      <td id=\"T_47203_row5_col6\" class=\"data row5 col6\" >141.337897</td>\n",
       "      <td id=\"T_47203_row5_col7\" class=\"data row5 col7\" >7,589.5</td>\n",
       "      <td id=\"T_47203_row5_col8\" class=\"data row5 col8\" >227</td>\n",
       "      <td id=\"T_47203_row5_col9\" class=\"data row5 col9\" >0</td>\n",
       "      <td id=\"T_47203_row5_col10\" class=\"data row5 col10\" >0</td>\n",
       "      <td id=\"T_47203_row5_col11\" class=\"data row5 col11\" >173.4</td>\n",
       "      <td id=\"T_47203_row5_col12\" class=\"data row5 col12\" >0.000</td>\n",
       "      <td id=\"T_47203_row5_col13\" class=\"data row5 col13\" >0.0</td>\n",
       "    </tr>\n",
       "    <tr>\n",
       "      <td id=\"T_47203_row6_col0\" class=\"data row6 col0\" >SK Pforzheim</td>\n",
       "      <td id=\"T_47203_row6_col1\" class=\"data row6 col1\" >8,633</td>\n",
       "      <td id=\"T_47203_row6_col2\" class=\"data row6 col2\" >172</td>\n",
       "      <td id=\"T_47203_row6_col3\" class=\"data row6 col3\" >7,896</td>\n",
       "      <td id=\"T_47203_row6_col4\" class=\"data row6 col4\" >126,016</td>\n",
       "      <td id=\"T_47203_row6_col5\" class=\"data row6 col5\" >6,850.7</td>\n",
       "      <td id=\"T_47203_row6_col6\" class=\"data row6 col6\" >136.490604</td>\n",
       "      <td id=\"T_47203_row6_col7\" class=\"data row6 col7\" >6,265.9</td>\n",
       "      <td id=\"T_47203_row6_col8\" class=\"data row6 col8\" >205</td>\n",
       "      <td id=\"T_47203_row6_col9\" class=\"data row6 col9\" >1</td>\n",
       "      <td id=\"T_47203_row6_col10\" class=\"data row6 col10\" >1</td>\n",
       "      <td id=\"T_47203_row6_col11\" class=\"data row6 col11\" >162.7</td>\n",
       "      <td id=\"T_47203_row6_col12\" class=\"data row6 col12\" >0.794</td>\n",
       "      <td id=\"T_47203_row6_col13\" class=\"data row6 col13\" >0.8</td>\n",
       "    </tr>\n",
       "    <tr>\n",
       "      <td id=\"T_47203_row7_col0\" class=\"data row7 col0\" >SK Rosenheim</td>\n",
       "      <td id=\"T_47203_row7_col1\" class=\"data row7 col1\" >4,613</td>\n",
       "      <td id=\"T_47203_row7_col2\" class=\"data row7 col2\" >72</td>\n",
       "      <td id=\"T_47203_row7_col3\" class=\"data row7 col3\" >4,251</td>\n",
       "      <td id=\"T_47203_row7_col4\" class=\"data row7 col4\" >63,591</td>\n",
       "      <td id=\"T_47203_row7_col5\" class=\"data row7 col5\" >7,254.2</td>\n",
       "      <td id=\"T_47203_row7_col6\" class=\"data row7 col6\" >113.223569</td>\n",
       "      <td id=\"T_47203_row7_col7\" class=\"data row7 col7\" >6,684.9</td>\n",
       "      <td id=\"T_47203_row7_col8\" class=\"data row7 col8\" >103</td>\n",
       "      <td id=\"T_47203_row7_col9\" class=\"data row7 col9\" >1</td>\n",
       "      <td id=\"T_47203_row7_col10\" class=\"data row7 col10\" >0</td>\n",
       "      <td id=\"T_47203_row7_col11\" class=\"data row7 col11\" >162.0</td>\n",
       "      <td id=\"T_47203_row7_col12\" class=\"data row7 col12\" >1.573</td>\n",
       "      <td id=\"T_47203_row7_col13\" class=\"data row7 col13\" >0.0</td>\n",
       "    </tr>\n",
       "    <tr>\n",
       "      <td id=\"T_47203_row8_col0\" class=\"data row8 col0\" >LK Lippe</td>\n",
       "      <td id=\"T_47203_row8_col1\" class=\"data row8 col1\" >19,847</td>\n",
       "      <td id=\"T_47203_row8_col2\" class=\"data row8 col2\" >407</td>\n",
       "      <td id=\"T_47203_row8_col3\" class=\"data row8 col3\" >18,724</td>\n",
       "      <td id=\"T_47203_row8_col4\" class=\"data row8 col4\" >346,970</td>\n",
       "      <td id=\"T_47203_row8_col5\" class=\"data row8 col5\" >5,720.1</td>\n",
       "      <td id=\"T_47203_row8_col6\" class=\"data row8 col6\" >117.301208</td>\n",
       "      <td id=\"T_47203_row8_col7\" class=\"data row8 col7\" >5,396.4</td>\n",
       "      <td id=\"T_47203_row8_col8\" class=\"data row8 col8\" >554</td>\n",
       "      <td id=\"T_47203_row8_col9\" class=\"data row8 col9\" >0</td>\n",
       "      <td id=\"T_47203_row8_col10\" class=\"data row8 col10\" >50</td>\n",
       "      <td id=\"T_47203_row8_col11\" class=\"data row8 col11\" >159.7</td>\n",
       "      <td id=\"T_47203_row8_col12\" class=\"data row8 col12\" >0.000</td>\n",
       "      <td id=\"T_47203_row8_col13\" class=\"data row8 col13\" >14.4</td>\n",
       "    </tr>\n",
       "    <tr>\n",
       "      <td id=\"T_47203_row9_col0\" class=\"data row9 col0\" >SK Salzgitter</td>\n",
       "      <td id=\"T_47203_row9_col1\" class=\"data row9 col1\" >6,313</td>\n",
       "      <td id=\"T_47203_row9_col2\" class=\"data row9 col2\" >80</td>\n",
       "      <td id=\"T_47203_row9_col3\" class=\"data row9 col3\" >6,007</td>\n",
       "      <td id=\"T_47203_row9_col4\" class=\"data row9 col4\" >103,866</td>\n",
       "      <td id=\"T_47203_row9_col5\" class=\"data row9 col5\" >6,078.0</td>\n",
       "      <td id=\"T_47203_row9_col6\" class=\"data row9 col6\" >77.022317</td>\n",
       "      <td id=\"T_47203_row9_col7\" class=\"data row9 col7\" >5,783.4</td>\n",
       "      <td id=\"T_47203_row9_col8\" class=\"data row9 col8\" >159</td>\n",
       "      <td id=\"T_47203_row9_col9\" class=\"data row9 col9\" >0</td>\n",
       "      <td id=\"T_47203_row9_col10\" class=\"data row9 col10\" >17</td>\n",
       "      <td id=\"T_47203_row9_col11\" class=\"data row9 col11\" >153.1</td>\n",
       "      <td id=\"T_47203_row9_col12\" class=\"data row9 col12\" >0.000</td>\n",
       "      <td id=\"T_47203_row9_col13\" class=\"data row9 col13\" >16.4</td>\n",
       "    </tr>\n",
       "    <tr>\n",
       "      <td id=\"T_47203_row10_col0\" class=\"data row10 col0\" >SK Landau i.d.Pfalz</td>\n",
       "      <td id=\"T_47203_row10_col1\" class=\"data row10 col1\" >1,989</td>\n",
       "      <td id=\"T_47203_row10_col2\" class=\"data row10 col2\" >37</td>\n",
       "      <td id=\"T_47203_row10_col3\" class=\"data row10 col3\" >1,837</td>\n",
       "      <td id=\"T_47203_row10_col4\" class=\"data row10 col4\" >46,685</td>\n",
       "      <td id=\"T_47203_row10_col5\" class=\"data row10 col5\" >4,260.5</td>\n",
       "      <td id=\"T_47203_row10_col6\" class=\"data row10 col6\" >79.254579</td>\n",
       "      <td id=\"T_47203_row10_col7\" class=\"data row10 col7\" >3,934.9</td>\n",
       "      <td id=\"T_47203_row10_col8\" class=\"data row10 col8\" >68</td>\n",
       "      <td id=\"T_47203_row10_col9\" class=\"data row10 col9\" >0</td>\n",
       "      <td id=\"T_47203_row10_col10\" class=\"data row10 col10\" >1</td>\n",
       "      <td id=\"T_47203_row10_col11\" class=\"data row10 col11\" >145.7</td>\n",
       "      <td id=\"T_47203_row10_col12\" class=\"data row10 col12\" >0.000</td>\n",
       "      <td id=\"T_47203_row10_col13\" class=\"data row10 col13\" >2.1</td>\n",
       "    </tr>\n",
       "    <tr>\n",
       "      <td id=\"T_47203_row11_col0\" class=\"data row11 col0\" >SK Schweinfurt</td>\n",
       "      <td id=\"T_47203_row11_col1\" class=\"data row11 col1\" >3,577</td>\n",
       "      <td id=\"T_47203_row11_col2\" class=\"data row11 col2\" >95</td>\n",
       "      <td id=\"T_47203_row11_col3\" class=\"data row11 col3\" >3,363</td>\n",
       "      <td id=\"T_47203_row11_col4\" class=\"data row11 col4\" >53,319</td>\n",
       "      <td id=\"T_47203_row11_col5\" class=\"data row11 col5\" >6,708.7</td>\n",
       "      <td id=\"T_47203_row11_col6\" class=\"data row11 col6\" >178.172884</td>\n",
       "      <td id=\"T_47203_row11_col7\" class=\"data row11 col7\" >6,307.3</td>\n",
       "      <td id=\"T_47203_row11_col8\" class=\"data row11 col8\" >77</td>\n",
       "      <td id=\"T_47203_row11_col9\" class=\"data row11 col9\" >0</td>\n",
       "      <td id=\"T_47203_row11_col10\" class=\"data row11 col10\" >1</td>\n",
       "      <td id=\"T_47203_row11_col11\" class=\"data row11 col11\" >144.4</td>\n",
       "      <td id=\"T_47203_row11_col12\" class=\"data row11 col12\" >0.000</td>\n",
       "      <td id=\"T_47203_row11_col13\" class=\"data row11 col13\" >1.9</td>\n",
       "    </tr>\n",
       "    <tr>\n",
       "      <td id=\"T_47203_row12_col0\" class=\"data row12 col0\" >LK Ahrweiler</td>\n",
       "      <td id=\"T_47203_row12_col1\" class=\"data row12 col1\" >5,540</td>\n",
       "      <td id=\"T_47203_row12_col2\" class=\"data row12 col2\" >57</td>\n",
       "      <td id=\"T_47203_row12_col3\" class=\"data row12 col3\" >4,698</td>\n",
       "      <td id=\"T_47203_row12_col4\" class=\"data row12 col4\" >130,479</td>\n",
       "      <td id=\"T_47203_row12_col5\" class=\"data row12 col5\" >4,245.9</td>\n",
       "      <td id=\"T_47203_row12_col6\" class=\"data row12 col6\" >43.685191</td>\n",
       "      <td id=\"T_47203_row12_col7\" class=\"data row12 col7\" >3,600.6</td>\n",
       "      <td id=\"T_47203_row12_col8\" class=\"data row12 col8\" >187</td>\n",
       "      <td id=\"T_47203_row12_col9\" class=\"data row12 col9\" >0</td>\n",
       "      <td id=\"T_47203_row12_col10\" class=\"data row12 col10\" >0</td>\n",
       "      <td id=\"T_47203_row12_col11\" class=\"data row12 col11\" >143.3</td>\n",
       "      <td id=\"T_47203_row12_col12\" class=\"data row12 col12\" >0.000</td>\n",
       "      <td id=\"T_47203_row12_col13\" class=\"data row12 col13\" >0.0</td>\n",
       "    </tr>\n",
       "    <tr>\n",
       "      <td id=\"T_47203_row13_col0\" class=\"data row13 col0\" >LK Erding</td>\n",
       "      <td id=\"T_47203_row13_col1\" class=\"data row13 col1\" >7,873</td>\n",
       "      <td id=\"T_47203_row13_col2\" class=\"data row13 col2\" >118</td>\n",
       "      <td id=\"T_47203_row13_col3\" class=\"data row13 col3\" >7,389</td>\n",
       "      <td id=\"T_47203_row13_col4\" class=\"data row13 col4\" >138,891</td>\n",
       "      <td id=\"T_47203_row13_col5\" class=\"data row13 col5\" >5,668.5</td>\n",
       "      <td id=\"T_47203_row13_col6\" class=\"data row13 col6\" >84.958709</td>\n",
       "      <td id=\"T_47203_row13_col7\" class=\"data row13 col7\" >5,320.0</td>\n",
       "      <td id=\"T_47203_row13_col8\" class=\"data row13 col8\" >199</td>\n",
       "      <td id=\"T_47203_row13_col9\" class=\"data row13 col9\" >0</td>\n",
       "      <td id=\"T_47203_row13_col10\" class=\"data row13 col10\" >2</td>\n",
       "      <td id=\"T_47203_row13_col11\" class=\"data row13 col11\" >143.3</td>\n",
       "      <td id=\"T_47203_row13_col12\" class=\"data row13 col12\" >0.000</td>\n",
       "      <td id=\"T_47203_row13_col13\" class=\"data row13 col13\" >1.4</td>\n",
       "    </tr>\n",
       "    <tr>\n",
       "      <td id=\"T_47203_row14_col0\" class=\"data row14 col0\" >LK Unterallgäu</td>\n",
       "      <td id=\"T_47203_row14_col1\" class=\"data row14 col1\" >8,128</td>\n",
       "      <td id=\"T_47203_row14_col2\" class=\"data row14 col2\" >171</td>\n",
       "      <td id=\"T_47203_row14_col3\" class=\"data row14 col3\" >7,518</td>\n",
       "      <td id=\"T_47203_row14_col4\" class=\"data row14 col4\" >146,164</td>\n",
       "      <td id=\"T_47203_row14_col5\" class=\"data row14 col5\" >5,560.9</td>\n",
       "      <td id=\"T_47203_row14_col6\" class=\"data row14 col6\" >116.991872</td>\n",
       "      <td id=\"T_47203_row14_col7\" class=\"data row14 col7\" >5,143.5</td>\n",
       "      <td id=\"T_47203_row14_col8\" class=\"data row14 col8\" >205</td>\n",
       "      <td id=\"T_47203_row14_col9\" class=\"data row14 col9\" >0</td>\n",
       "      <td id=\"T_47203_row14_col10\" class=\"data row14 col10\" >1</td>\n",
       "      <td id=\"T_47203_row14_col11\" class=\"data row14 col11\" >140.3</td>\n",
       "      <td id=\"T_47203_row14_col12\" class=\"data row14 col12\" >0.000</td>\n",
       "      <td id=\"T_47203_row14_col13\" class=\"data row14 col13\" >0.7</td>\n",
       "    </tr>\n",
       "    <tr>\n",
       "      <td id=\"T_47203_row15_col0\" class=\"data row15 col0\" >SK Worms</td>\n",
       "      <td id=\"T_47203_row15_col1\" class=\"data row15 col1\" >4,835</td>\n",
       "      <td id=\"T_47203_row15_col2\" class=\"data row15 col2\" >94</td>\n",
       "      <td id=\"T_47203_row15_col3\" class=\"data row15 col3\" >4,569</td>\n",
       "      <td id=\"T_47203_row15_col4\" class=\"data row15 col4\" >83,459</td>\n",
       "      <td id=\"T_47203_row15_col5\" class=\"data row15 col5\" >5,793.3</td>\n",
       "      <td id=\"T_47203_row15_col6\" class=\"data row15 col6\" >112.630154</td>\n",
       "      <td id=\"T_47203_row15_col7\" class=\"data row15 col7\" >5,474.5</td>\n",
       "      <td id=\"T_47203_row15_col8\" class=\"data row15 col8\" >116</td>\n",
       "      <td id=\"T_47203_row15_col9\" class=\"data row15 col9\" >0</td>\n",
       "      <td id=\"T_47203_row15_col10\" class=\"data row15 col10\" >4</td>\n",
       "      <td id=\"T_47203_row15_col11\" class=\"data row15 col11\" >139.0</td>\n",
       "      <td id=\"T_47203_row15_col12\" class=\"data row15 col12\" >0.000</td>\n",
       "      <td id=\"T_47203_row15_col13\" class=\"data row15 col13\" >4.8</td>\n",
       "    </tr>\n",
       "    <tr>\n",
       "      <td id=\"T_47203_row16_col0\" class=\"data row16 col0\" >LK Rottweil</td>\n",
       "      <td id=\"T_47203_row16_col1\" class=\"data row16 col1\" >8,737</td>\n",
       "      <td id=\"T_47203_row16_col2\" class=\"data row16 col2\" >166</td>\n",
       "      <td id=\"T_47203_row16_col3\" class=\"data row16 col3\" >8,277</td>\n",
       "      <td id=\"T_47203_row16_col4\" class=\"data row16 col4\" >140,166</td>\n",
       "      <td id=\"T_47203_row16_col5\" class=\"data row16 col5\" >6,233.3</td>\n",
       "      <td id=\"T_47203_row16_col6\" class=\"data row16 col6\" >118.431003</td>\n",
       "      <td id=\"T_47203_row16_col7\" class=\"data row16 col7\" >5,905.1</td>\n",
       "      <td id=\"T_47203_row16_col8\" class=\"data row16 col8\" >194</td>\n",
       "      <td id=\"T_47203_row16_col9\" class=\"data row16 col9\" >0</td>\n",
       "      <td id=\"T_47203_row16_col10\" class=\"data row16 col10\" >11</td>\n",
       "      <td id=\"T_47203_row16_col11\" class=\"data row16 col11\" >138.4</td>\n",
       "      <td id=\"T_47203_row16_col12\" class=\"data row16 col12\" >0.000</td>\n",
       "      <td id=\"T_47203_row16_col13\" class=\"data row16 col13\" >7.8</td>\n",
       "    </tr>\n",
       "    <tr>\n",
       "      <td id=\"T_47203_row17_col0\" class=\"data row17 col0\" >SK Leverkusen</td>\n",
       "      <td id=\"T_47203_row17_col1\" class=\"data row17 col1\" >9,904</td>\n",
       "      <td id=\"T_47203_row17_col2\" class=\"data row17 col2\" >111</td>\n",
       "      <td id=\"T_47203_row17_col3\" class=\"data row17 col3\" >9,276</td>\n",
       "      <td id=\"T_47203_row17_col4\" class=\"data row17 col4\" >163,905</td>\n",
       "      <td id=\"T_47203_row17_col5\" class=\"data row17 col5\" >6,042.5</td>\n",
       "      <td id=\"T_47203_row17_col6\" class=\"data row17 col6\" >67.722156</td>\n",
       "      <td id=\"T_47203_row17_col7\" class=\"data row17 col7\" >5,659.4</td>\n",
       "      <td id=\"T_47203_row17_col8\" class=\"data row17 col8\" >226</td>\n",
       "      <td id=\"T_47203_row17_col9\" class=\"data row17 col9\" >2</td>\n",
       "      <td id=\"T_47203_row17_col10\" class=\"data row17 col10\" >10</td>\n",
       "      <td id=\"T_47203_row17_col11\" class=\"data row17 col11\" >137.9</td>\n",
       "      <td id=\"T_47203_row17_col12\" class=\"data row17 col12\" >1.220</td>\n",
       "      <td id=\"T_47203_row17_col13\" class=\"data row17 col13\" >6.1</td>\n",
       "    </tr>\n",
       "    <tr>\n",
       "      <td id=\"T_47203_row18_col0\" class=\"data row18 col0\" >SK Wuppertal</td>\n",
       "      <td id=\"T_47203_row18_col1\" class=\"data row18 col1\" >24,465</td>\n",
       "      <td id=\"T_47203_row18_col2\" class=\"data row18 col2\" >495</td>\n",
       "      <td id=\"T_47203_row18_col3\" class=\"data row18 col3\" >22,842</td>\n",
       "      <td id=\"T_47203_row18_col4\" class=\"data row18 col4\" >355,004</td>\n",
       "      <td id=\"T_47203_row18_col5\" class=\"data row18 col5\" >6,891.5</td>\n",
       "      <td id=\"T_47203_row18_col6\" class=\"data row18 col6\" >139.435049</td>\n",
       "      <td id=\"T_47203_row18_col7\" class=\"data row18 col7\" >6,434.3</td>\n",
       "      <td id=\"T_47203_row18_col8\" class=\"data row18 col8\" >475</td>\n",
       "      <td id=\"T_47203_row18_col9\" class=\"data row18 col9\" >0</td>\n",
       "      <td id=\"T_47203_row18_col10\" class=\"data row18 col10\" >25</td>\n",
       "      <td id=\"T_47203_row18_col11\" class=\"data row18 col11\" >133.8</td>\n",
       "      <td id=\"T_47203_row18_col12\" class=\"data row18 col12\" >0.000</td>\n",
       "      <td id=\"T_47203_row18_col13\" class=\"data row18 col13\" >7.0</td>\n",
       "    </tr>\n",
       "    <tr>\n",
       "      <td id=\"T_47203_row19_col0\" class=\"data row19 col0\" >LK Altötting</td>\n",
       "      <td id=\"T_47203_row19_col1\" class=\"data row19 col1\" >6,775</td>\n",
       "      <td id=\"T_47203_row19_col2\" class=\"data row19 col2\" >212</td>\n",
       "      <td id=\"T_47203_row19_col3\" class=\"data row19 col3\" >6,152</td>\n",
       "      <td id=\"T_47203_row19_col4\" class=\"data row19 col4\" >111,654</td>\n",
       "      <td id=\"T_47203_row19_col5\" class=\"data row19 col5\" >6,067.9</td>\n",
       "      <td id=\"T_47203_row19_col6\" class=\"data row19 col6\" >189.872284</td>\n",
       "      <td id=\"T_47203_row19_col7\" class=\"data row19 col7\" >5,509.9</td>\n",
       "      <td id=\"T_47203_row19_col8\" class=\"data row19 col8\" >148</td>\n",
       "      <td id=\"T_47203_row19_col9\" class=\"data row19 col9\" >0</td>\n",
       "      <td id=\"T_47203_row19_col10\" class=\"data row19 col10\" >0</td>\n",
       "      <td id=\"T_47203_row19_col11\" class=\"data row19 col11\" >132.6</td>\n",
       "      <td id=\"T_47203_row19_col12\" class=\"data row19 col12\" >0.000</td>\n",
       "      <td id=\"T_47203_row19_col13\" class=\"data row19 col13\" >0.0</td>\n",
       "    </tr>\n",
       "    <tr>\n",
       "      <td id=\"T_47203_row20_col0\" class=\"data row20 col0\" >LK Schwarzwald-Baar-Kreis</td>\n",
       "      <td id=\"T_47203_row20_col1\" class=\"data row20 col1\" >11,201</td>\n",
       "      <td id=\"T_47203_row20_col2\" class=\"data row20 col2\" >216</td>\n",
       "      <td id=\"T_47203_row20_col3\" class=\"data row20 col3\" >10,597</td>\n",
       "      <td id=\"T_47203_row20_col4\" class=\"data row20 col4\" >212,872</td>\n",
       "      <td id=\"T_47203_row20_col5\" class=\"data row20 col5\" >5,261.8</td>\n",
       "      <td id=\"T_47203_row20_col6\" class=\"data row20 col6\" >101.469428</td>\n",
       "      <td id=\"T_47203_row20_col7\" class=\"data row20 col7\" >4,978.1</td>\n",
       "      <td id=\"T_47203_row20_col8\" class=\"data row20 col8\" >281</td>\n",
       "      <td id=\"T_47203_row20_col9\" class=\"data row20 col9\" >0</td>\n",
       "      <td id=\"T_47203_row20_col10\" class=\"data row20 col10\" >22</td>\n",
       "      <td id=\"T_47203_row20_col11\" class=\"data row20 col11\" >132.0</td>\n",
       "      <td id=\"T_47203_row20_col12\" class=\"data row20 col12\" >0.000</td>\n",
       "      <td id=\"T_47203_row20_col13\" class=\"data row20 col13\" >10.3</td>\n",
       "    </tr>\n",
       "    <tr>\n",
       "      <td id=\"T_47203_row21_col0\" class=\"data row21 col0\" >SK Mannheim</td>\n",
       "      <td id=\"T_47203_row21_col1\" class=\"data row21 col1\" >18,619</td>\n",
       "      <td id=\"T_47203_row21_col2\" class=\"data row21 col2\" >309</td>\n",
       "      <td id=\"T_47203_row21_col3\" class=\"data row21 col3\" >17,323</td>\n",
       "      <td id=\"T_47203_row21_col4\" class=\"data row21 col4\" >309,721</td>\n",
       "      <td id=\"T_47203_row21_col5\" class=\"data row21 col5\" >6,011.5</td>\n",
       "      <td id=\"T_47203_row21_col6\" class=\"data row21 col6\" >99.767210</td>\n",
       "      <td id=\"T_47203_row21_col7\" class=\"data row21 col7\" >5,593.1</td>\n",
       "      <td id=\"T_47203_row21_col8\" class=\"data row21 col8\" >408</td>\n",
       "      <td id=\"T_47203_row21_col9\" class=\"data row21 col9\" >0</td>\n",
       "      <td id=\"T_47203_row21_col10\" class=\"data row21 col10\" >15</td>\n",
       "      <td id=\"T_47203_row21_col11\" class=\"data row21 col11\" >131.7</td>\n",
       "      <td id=\"T_47203_row21_col12\" class=\"data row21 col12\" >0.000</td>\n",
       "      <td id=\"T_47203_row21_col13\" class=\"data row21 col13\" >4.8</td>\n",
       "    </tr>\n",
       "    <tr>\n",
       "      <td id=\"T_47203_row22_col0\" class=\"data row22 col0\" >SK Aschaffenburg</td>\n",
       "      <td id=\"T_47203_row22_col1\" class=\"data row22 col1\" >3,946</td>\n",
       "      <td id=\"T_47203_row22_col2\" class=\"data row22 col2\" >116</td>\n",
       "      <td id=\"T_47203_row22_col3\" class=\"data row22 col3\" >3,690</td>\n",
       "      <td id=\"T_47203_row22_col4\" class=\"data row22 col4\" >70,858</td>\n",
       "      <td id=\"T_47203_row22_col5\" class=\"data row22 col5\" >5,568.9</td>\n",
       "      <td id=\"T_47203_row22_col6\" class=\"data row22 col6\" >163.707697</td>\n",
       "      <td id=\"T_47203_row22_col7\" class=\"data row22 col7\" >5,207.6</td>\n",
       "      <td id=\"T_47203_row22_col8\" class=\"data row22 col8\" >92</td>\n",
       "      <td id=\"T_47203_row22_col9\" class=\"data row22 col9\" >0</td>\n",
       "      <td id=\"T_47203_row22_col10\" class=\"data row22 col10\" >1</td>\n",
       "      <td id=\"T_47203_row22_col11\" class=\"data row22 col11\" >129.8</td>\n",
       "      <td id=\"T_47203_row22_col12\" class=\"data row22 col12\" >0.000</td>\n",
       "      <td id=\"T_47203_row22_col13\" class=\"data row22 col13\" >1.4</td>\n",
       "    </tr>\n",
       "    <tr>\n",
       "      <td id=\"T_47203_row23_col0\" class=\"data row23 col0\" >LK Eichstätt</td>\n",
       "      <td id=\"T_47203_row23_col1\" class=\"data row23 col1\" >5,777</td>\n",
       "      <td id=\"T_47203_row23_col2\" class=\"data row23 col2\" >90</td>\n",
       "      <td id=\"T_47203_row23_col3\" class=\"data row23 col3\" >5,422</td>\n",
       "      <td id=\"T_47203_row23_col4\" class=\"data row23 col4\" >133,169</td>\n",
       "      <td id=\"T_47203_row23_col5\" class=\"data row23 col5\" >4,338.1</td>\n",
       "      <td id=\"T_47203_row23_col6\" class=\"data row23 col6\" >67.583296</td>\n",
       "      <td id=\"T_47203_row23_col7\" class=\"data row23 col7\" >4,071.5</td>\n",
       "      <td id=\"T_47203_row23_col8\" class=\"data row23 col8\" >170</td>\n",
       "      <td id=\"T_47203_row23_col9\" class=\"data row23 col9\" >1</td>\n",
       "      <td id=\"T_47203_row23_col10\" class=\"data row23 col10\" >7</td>\n",
       "      <td id=\"T_47203_row23_col11\" class=\"data row23 col11\" >127.7</td>\n",
       "      <td id=\"T_47203_row23_col12\" class=\"data row23 col12\" >0.751</td>\n",
       "      <td id=\"T_47203_row23_col13\" class=\"data row23 col13\" >5.3</td>\n",
       "    </tr>\n",
       "    <tr>\n",
       "      <td id=\"T_47203_row24_col0\" class=\"data row24 col0\" >SK Heilbronn</td>\n",
       "      <td id=\"T_47203_row24_col1\" class=\"data row24 col1\" >9,822</td>\n",
       "      <td id=\"T_47203_row24_col2\" class=\"data row24 col2\" >138</td>\n",
       "      <td id=\"T_47203_row24_col3\" class=\"data row24 col3\" >9,299</td>\n",
       "      <td id=\"T_47203_row24_col4\" class=\"data row24 col4\" >126,458</td>\n",
       "      <td id=\"T_47203_row24_col5\" class=\"data row24 col5\" >7,767.0</td>\n",
       "      <td id=\"T_47203_row24_col6\" class=\"data row24 col6\" >109.127141</td>\n",
       "      <td id=\"T_47203_row24_col7\" class=\"data row24 col7\" >7,353.4</td>\n",
       "      <td id=\"T_47203_row24_col8\" class=\"data row24 col8\" >161</td>\n",
       "      <td id=\"T_47203_row24_col9\" class=\"data row24 col9\" >0</td>\n",
       "      <td id=\"T_47203_row24_col10\" class=\"data row24 col10\" >1</td>\n",
       "      <td id=\"T_47203_row24_col11\" class=\"data row24 col11\" >127.3</td>\n",
       "      <td id=\"T_47203_row24_col12\" class=\"data row24 col12\" >0.000</td>\n",
       "      <td id=\"T_47203_row24_col13\" class=\"data row24 col13\" >0.8</td>\n",
       "    </tr>\n",
       "    <tr>\n",
       "      <td id=\"T_47203_row25_col0\" class=\"data row25 col0\" >SK Landshut</td>\n",
       "      <td id=\"T_47203_row25_col1\" class=\"data row25 col1\" >4,525</td>\n",
       "      <td id=\"T_47203_row25_col2\" class=\"data row25 col2\" >117</td>\n",
       "      <td id=\"T_47203_row25_col3\" class=\"data row25 col3\" >4,244</td>\n",
       "      <td id=\"T_47203_row25_col4\" class=\"data row25 col4\" >73,065</td>\n",
       "      <td id=\"T_47203_row25_col5\" class=\"data row25 col5\" >6,193.1</td>\n",
       "      <td id=\"T_47203_row25_col6\" class=\"data row25 col6\" >160.131390</td>\n",
       "      <td id=\"T_47203_row25_col7\" class=\"data row25 col7\" >5,808.5</td>\n",
       "      <td id=\"T_47203_row25_col8\" class=\"data row25 col8\" >92</td>\n",
       "      <td id=\"T_47203_row25_col9\" class=\"data row25 col9\" >0</td>\n",
       "      <td id=\"T_47203_row25_col10\" class=\"data row25 col10\" >2</td>\n",
       "      <td id=\"T_47203_row25_col11\" class=\"data row25 col11\" >125.9</td>\n",
       "      <td id=\"T_47203_row25_col12\" class=\"data row25 col12\" >0.000</td>\n",
       "      <td id=\"T_47203_row25_col13\" class=\"data row25 col13\" >2.7</td>\n",
       "    </tr>\n",
       "    <tr>\n",
       "      <td id=\"T_47203_row26_col0\" class=\"data row26 col0\" >LK Minden-Lübbecke</td>\n",
       "      <td id=\"T_47203_row26_col1\" class=\"data row26 col1\" >17,423</td>\n",
       "      <td id=\"T_47203_row26_col2\" class=\"data row26 col2\" >269</td>\n",
       "      <td id=\"T_47203_row26_col3\" class=\"data row26 col3\" >16,566</td>\n",
       "      <td id=\"T_47203_row26_col4\" class=\"data row26 col4\" >310,270</td>\n",
       "      <td id=\"T_47203_row26_col5\" class=\"data row26 col5\" >5,615.4</td>\n",
       "      <td id=\"T_47203_row26_col6\" class=\"data row26 col6\" >86.698682</td>\n",
       "      <td id=\"T_47203_row26_col7\" class=\"data row26 col7\" >5,339.2</td>\n",
       "      <td id=\"T_47203_row26_col8\" class=\"data row26 col8\" >387</td>\n",
       "      <td id=\"T_47203_row26_col9\" class=\"data row26 col9\" >1</td>\n",
       "      <td id=\"T_47203_row26_col10\" class=\"data row26 col10\" >16</td>\n",
       "      <td id=\"T_47203_row26_col11\" class=\"data row26 col11\" >124.7</td>\n",
       "      <td id=\"T_47203_row26_col12\" class=\"data row26 col12\" >0.322</td>\n",
       "      <td id=\"T_47203_row26_col13\" class=\"data row26 col13\" >5.2</td>\n",
       "    </tr>\n",
       "    <tr>\n",
       "      <td id=\"T_47203_row27_col0\" class=\"data row27 col0\" >LK Alzey-Worms</td>\n",
       "      <td id=\"T_47203_row27_col1\" class=\"data row27 col1\" >5,832</td>\n",
       "      <td id=\"T_47203_row27_col2\" class=\"data row27 col2\" >127</td>\n",
       "      <td id=\"T_47203_row27_col3\" class=\"data row27 col3\" >5,461</td>\n",
       "      <td id=\"T_47203_row27_col4\" class=\"data row27 col4\" >130,715</td>\n",
       "      <td id=\"T_47203_row27_col5\" class=\"data row27 col5\" >4,461.6</td>\n",
       "      <td id=\"T_47203_row27_col6\" class=\"data row27 col6\" >97.157939</td>\n",
       "      <td id=\"T_47203_row27_col7\" class=\"data row27 col7\" >4,177.8</td>\n",
       "      <td id=\"T_47203_row27_col8\" class=\"data row27 col8\" >160</td>\n",
       "      <td id=\"T_47203_row27_col9\" class=\"data row27 col9\" >0</td>\n",
       "      <td id=\"T_47203_row27_col10\" class=\"data row27 col10\" >9</td>\n",
       "      <td id=\"T_47203_row27_col11\" class=\"data row27 col11\" >122.4</td>\n",
       "      <td id=\"T_47203_row27_col12\" class=\"data row27 col12\" >0.000</td>\n",
       "      <td id=\"T_47203_row27_col13\" class=\"data row27 col13\" >6.9</td>\n",
       "    </tr>\n",
       "    <tr>\n",
       "      <td id=\"T_47203_row28_col0\" class=\"data row28 col0\" >SK Berlin Spandau</td>\n",
       "      <td id=\"T_47203_row28_col1\" class=\"data row28 col1\" >15,743</td>\n",
       "      <td id=\"T_47203_row28_col2\" class=\"data row28 col2\" >258</td>\n",
       "      <td id=\"T_47203_row28_col3\" class=\"data row28 col3\" >14,637</td>\n",
       "      <td id=\"T_47203_row28_col4\" class=\"data row28 col4\" >238,922</td>\n",
       "      <td id=\"T_47203_row28_col5\" class=\"data row28 col5\" >6,589.2</td>\n",
       "      <td id=\"T_47203_row28_col6\" class=\"data row28 col6\" >107.985033</td>\n",
       "      <td id=\"T_47203_row28_col7\" class=\"data row28 col7\" >6,126.3</td>\n",
       "      <td id=\"T_47203_row28_col8\" class=\"data row28 col8\" >292</td>\n",
       "      <td id=\"T_47203_row28_col9\" class=\"data row28 col9\" >0</td>\n",
       "      <td id=\"T_47203_row28_col10\" class=\"data row28 col10\" >18</td>\n",
       "      <td id=\"T_47203_row28_col11\" class=\"data row28 col11\" >122.2</td>\n",
       "      <td id=\"T_47203_row28_col12\" class=\"data row28 col12\" >0.000</td>\n",
       "      <td id=\"T_47203_row28_col13\" class=\"data row28 col13\" >7.5</td>\n",
       "    </tr>\n",
       "    <tr>\n",
       "      <td id=\"T_47203_row29_col0\" class=\"data row29 col0\" >SK Augsburg</td>\n",
       "      <td id=\"T_47203_row29_col1\" class=\"data row29 col1\" >20,423</td>\n",
       "      <td id=\"T_47203_row29_col2\" class=\"data row29 col2\" >411</td>\n",
       "      <td id=\"T_47203_row29_col3\" class=\"data row29 col3\" >19,250</td>\n",
       "      <td id=\"T_47203_row29_col4\" class=\"data row29 col4\" >295,830</td>\n",
       "      <td id=\"T_47203_row29_col5\" class=\"data row29 col5\" >6,903.6</td>\n",
       "      <td id=\"T_47203_row29_col6\" class=\"data row29 col6\" >138.931143</td>\n",
       "      <td id=\"T_47203_row29_col7\" class=\"data row29 col7\" >6,507.1</td>\n",
       "      <td id=\"T_47203_row29_col8\" class=\"data row29 col8\" >360</td>\n",
       "      <td id=\"T_47203_row29_col9\" class=\"data row29 col9\" >0</td>\n",
       "      <td id=\"T_47203_row29_col10\" class=\"data row29 col10\" >2</td>\n",
       "      <td id=\"T_47203_row29_col11\" class=\"data row29 col11\" >121.7</td>\n",
       "      <td id=\"T_47203_row29_col12\" class=\"data row29 col12\" >0.000</td>\n",
       "      <td id=\"T_47203_row29_col13\" class=\"data row29 col13\" >0.7</td>\n",
       "    </tr>\n",
       "  </tbody>\n",
       "</table>\n"
      ],
      "text/plain": [
       "<pandas.io.formats.style.Styler at 0x1ef2014a940>"
      ]
     },
     "metadata": {},
     "execution_count": 22
    }
   ],
   "metadata": {}
  },
  {
   "cell_type": "markdown",
   "source": [
    "Equally, the following totals for all of Germany appear correct"
   ],
   "metadata": {}
  },
  {
   "cell_type": "code",
   "execution_count": 23,
   "source": [
    "columns = [\"population\", \"cases\", \"cases last 7 days\", \"deaths\", \"deaths last 7 days\", \"recovered\", \"recovered last 7 days\"]\r\n",
    "RKI_GITHUB_COVID_BY_DISTRICT[columns].sum().to_frame().T.style.hide_index().format(FORMAT_MAPPER)"
   ],
   "outputs": [
    {
     "output_type": "execute_result",
     "data": {
      "text/html": [
       "<style type=\"text/css\">\n",
       "</style>\n",
       "<table id=\"T_518d4_\">\n",
       "  <thead>\n",
       "    <tr>\n",
       "      <th class=\"col_heading level0 col0\" >population</th>\n",
       "      <th class=\"col_heading level0 col1\" >cases</th>\n",
       "      <th class=\"col_heading level0 col2\" >cases last 7 days</th>\n",
       "      <th class=\"col_heading level0 col3\" >deaths</th>\n",
       "      <th class=\"col_heading level0 col4\" >deaths last 7 days</th>\n",
       "      <th class=\"col_heading level0 col5\" >recovered</th>\n",
       "      <th class=\"col_heading level0 col6\" >recovered last 7 days</th>\n",
       "    </tr>\n",
       "  </thead>\n",
       "  <tbody>\n",
       "    <tr>\n",
       "      <td id=\"T_518d4_row0_col0\" class=\"data row0 col0\" >83,148,406</td>\n",
       "      <td id=\"T_518d4_row0_col1\" class=\"data row0 col1\" >4,145,852</td>\n",
       "      <td id=\"T_518d4_row0_col2\" class=\"data row0 col2\" >59,052</td>\n",
       "      <td id=\"T_518d4_row0_col3\" class=\"data row0 col3\" >92,971</td>\n",
       "      <td id=\"T_518d4_row0_col4\" class=\"data row0 col4\" >44</td>\n",
       "      <td id=\"T_518d4_row0_col5\" class=\"data row0 col5\" >3,897,819</td>\n",
       "      <td id=\"T_518d4_row0_col6\" class=\"data row0 col6\" >1,222</td>\n",
       "    </tr>\n",
       "  </tbody>\n",
       "</table>\n"
      ],
      "text/plain": [
       "<pandas.io.formats.style.Styler at 0x1ef32beffa0>"
      ]
     },
     "metadata": {},
     "execution_count": 23
    }
   ],
   "metadata": {}
  },
  {
   "cell_type": "markdown",
   "source": [
    "Likewise, the sums for the last 7 days per 100,000 people can be computed"
   ],
   "metadata": {}
  },
  {
   "cell_type": "code",
   "execution_count": 24,
   "source": [
    "columns = [\"cases last 7 days\", \"deaths last 7 days\", \"recovered last 7 days\"]\r\n",
    "(10**5 * RKI_GITHUB_COVID_BY_DISTRICT[columns].sum() / RKI_GITHUB_COVID_BY_DISTRICT[\"population\"].sum())\\\r\n",
    "    .to_frame().T.rename(columns={c:c+\" per 100k\" for c in columns}).style.hide_index().format(FORMAT_MAPPER)"
   ],
   "outputs": [
    {
     "output_type": "execute_result",
     "data": {
      "text/html": [
       "<style type=\"text/css\">\n",
       "</style>\n",
       "<table id=\"T_ab253_\">\n",
       "  <thead>\n",
       "    <tr>\n",
       "      <th class=\"col_heading level0 col0\" >cases last 7 days per 100k</th>\n",
       "      <th class=\"col_heading level0 col1\" >deaths last 7 days per 100k</th>\n",
       "      <th class=\"col_heading level0 col2\" >recovered last 7 days per 100k</th>\n",
       "    </tr>\n",
       "  </thead>\n",
       "  <tbody>\n",
       "    <tr>\n",
       "      <td id=\"T_ab253_row0_col0\" class=\"data row0 col0\" >71.0</td>\n",
       "      <td id=\"T_ab253_row0_col1\" class=\"data row0 col1\" >0.053</td>\n",
       "      <td id=\"T_ab253_row0_col2\" class=\"data row0 col2\" >1.5</td>\n",
       "    </tr>\n",
       "  </tbody>\n",
       "</table>\n"
      ],
      "text/plain": [
       "<pandas.io.formats.style.Styler at 0x1ef20102280>"
      ]
     },
     "metadata": {},
     "execution_count": 24
    }
   ],
   "metadata": {}
  },
  {
   "cell_type": "markdown",
   "source": [
    "However, the following numbers, which should reflect the increase of cases, deaths and recovered people during the last day, differ from what the RKI reports. \r\n",
    "This is a mystery ..."
   ],
   "metadata": {}
  },
  {
   "cell_type": "code",
   "execution_count": 25,
   "source": [
    "columns = [\"district ID\", \"reporting date\"]\r\n",
    "RKI_GITHUB_COVID_INFECTIONS_WITHOUT_NEGATIVES.sort_values(by=columns).groupby(by=columns).sum()\\\r\n",
    "    .groupby(by=\"district ID\").last().sum()\\\r\n",
    "        .to_frame().T.style.hide_index().format(FORMAT_MAPPER)"
   ],
   "outputs": [
    {
     "output_type": "execute_result",
     "data": {
      "text/html": [
       "<style type=\"text/css\">\n",
       "</style>\n",
       "<table id=\"T_5fec7_\">\n",
       "  <thead>\n",
       "    <tr>\n",
       "      <th class=\"col_heading level0 col0\" >cases</th>\n",
       "      <th class=\"col_heading level0 col1\" >deaths</th>\n",
       "      <th class=\"col_heading level0 col2\" >recovered</th>\n",
       "    </tr>\n",
       "  </thead>\n",
       "  <tbody>\n",
       "    <tr>\n",
       "      <td id=\"T_5fec7_row0_col0\" class=\"data row0 col0\" >4,492</td>\n",
       "      <td id=\"T_5fec7_row0_col1\" class=\"data row0 col1\" >1</td>\n",
       "      <td id=\"T_5fec7_row0_col2\" class=\"data row0 col2\" >14</td>\n",
       "    </tr>\n",
       "  </tbody>\n",
       "</table>\n"
      ],
      "text/plain": [
       "<pandas.io.formats.style.Styler at 0x1ef21122d00>"
      ]
     },
     "metadata": {},
     "execution_count": 25
    }
   ],
   "metadata": {}
  },
  {
   "cell_type": "markdown",
   "source": [
    "The difference for the last day can also be calculated in a different way: Instead of using the last entry as in the statement above (which may include figures that\r\n",
    "more than a day ago, if districts have not reported any data on the previous day), one can also filter by column `reporting date`."
   ],
   "metadata": {}
  },
  {
   "cell_type": "code",
   "execution_count": 26,
   "source": [
    "select_timestamp = pd.Timestamp(RKI_GITHUB_PUBLICATION_DATE.date() - dt.timedelta(days=1))\r\n",
    "print('the difference between the date of the most recent update and the timestamp for selecting the last day is ' \\\r\n",
    "        + f'{(RKI_GITHUB_COVID_INFECTIONS_WITHOUT_NEGATIVES[\"reporting date\"].max() - select_timestamp).total_seconds():.0f} seconds')\r\n",
    "\r\n",
    "RKI_GITHUB_COVID_INFECTIONS_WITHOUT_NEGATIVES.loc[RKI_GITHUB_COVID_INFECTIONS_WITHOUT_NEGATIVES[\"reporting date\"] >= select_timestamp, \r\n",
    "                                                  [\"cases\", \"deaths\", \"recovered\"]].sum().to_frame().T.style.hide_index().format(FORMAT_MAPPER)"
   ],
   "outputs": [
    {
     "output_type": "stream",
     "name": "stdout",
     "text": [
      "the difference between the date of the most recent update and the timestamp for selecting the last day is 0 seconds\n"
     ]
    },
    {
     "output_type": "execute_result",
     "data": {
      "text/html": [
       "<style type=\"text/css\">\n",
       "</style>\n",
       "<table id=\"T_0db69_\">\n",
       "  <thead>\n",
       "    <tr>\n",
       "      <th class=\"col_heading level0 col0\" >cases</th>\n",
       "      <th class=\"col_heading level0 col1\" >deaths</th>\n",
       "      <th class=\"col_heading level0 col2\" >recovered</th>\n",
       "    </tr>\n",
       "  </thead>\n",
       "  <tbody>\n",
       "    <tr>\n",
       "      <td id=\"T_0db69_row0_col0\" class=\"data row0 col0\" >2,002</td>\n",
       "      <td id=\"T_0db69_row0_col1\" class=\"data row0 col1\" >1</td>\n",
       "      <td id=\"T_0db69_row0_col2\" class=\"data row0 col2\" >2</td>\n",
       "    </tr>\n",
       "  </tbody>\n",
       "</table>\n"
      ],
      "text/plain": [
       "<pandas.io.formats.style.Styler at 0x1ef339c1370>"
      ]
     },
     "metadata": {},
     "execution_count": 26
    }
   ],
   "metadata": {}
  },
  {
   "cell_type": "markdown",
   "source": [
    "### Compute Totals by Age Group and Sex"
   ],
   "metadata": {}
  },
  {
   "cell_type": "markdown",
   "source": [
    "In order to close this notebook with something that is not mysterious, the total number of cases, deaths and recovered people is computed by age group and sex. \r\n",
    "This is again in sync with the data of the COVID-19 dashboard."
   ],
   "metadata": {}
  },
  {
   "cell_type": "code",
   "execution_count": 27,
   "source": [
    "RKI_GITHUB_COVID_BY_AGE_GROUP_AND_SEX_TOTALS = \\\r\n",
    "    RKI_GITHUB_COVID_INFECTIONS_WITHOUT_NEGATIVES[[\"age group\", \"sex\", \"cases\", \"deaths\", \"recovered\"]].groupby(by=[\"age group\", \"sex\"]).sum()\r\n",
    "RKI_GITHUB_COVID_BY_AGE_GROUP_AND_SEX_TOTALS.style.format(FORMAT_MAPPER)"
   ],
   "outputs": [
    {
     "output_type": "execute_result",
     "data": {
      "text/html": [
       "<style type=\"text/css\">\n",
       "</style>\n",
       "<table id=\"T_b7688_\">\n",
       "  <thead>\n",
       "    <tr>\n",
       "      <th class=\"blank\" >&nbsp;</th>\n",
       "      <th class=\"blank level0\" >&nbsp;</th>\n",
       "      <th class=\"col_heading level0 col0\" >cases</th>\n",
       "      <th class=\"col_heading level0 col1\" >deaths</th>\n",
       "      <th class=\"col_heading level0 col2\" >recovered</th>\n",
       "    </tr>\n",
       "    <tr>\n",
       "      <th class=\"index_name level0\" >age group</th>\n",
       "      <th class=\"index_name level1\" >sex</th>\n",
       "      <th class=\"blank col0\" >&nbsp;</th>\n",
       "      <th class=\"blank col1\" >&nbsp;</th>\n",
       "      <th class=\"blank col2\" >&nbsp;</th>\n",
       "    </tr>\n",
       "  </thead>\n",
       "  <tbody>\n",
       "    <tr>\n",
       "      <th id=\"T_b7688_level0_row0\" class=\"row_heading level0 row0\" rowspan=\"3\">A00-A04</th>\n",
       "      <th id=\"T_b7688_level1_row0\" class=\"row_heading level1 row0\" >F</th>\n",
       "      <td id=\"T_b7688_row0_col0\" class=\"data row0 col0\" >54,405</td>\n",
       "      <td id=\"T_b7688_row0_col1\" class=\"data row0 col1\" >9</td>\n",
       "      <td id=\"T_b7688_row0_col2\" class=\"data row0 col2\" >51,074</td>\n",
       "    </tr>\n",
       "    <tr>\n",
       "      <th id=\"T_b7688_level1_row1\" class=\"row_heading level1 row1\" >M</th>\n",
       "      <td id=\"T_b7688_row1_col0\" class=\"data row1 col0\" >58,707</td>\n",
       "      <td id=\"T_b7688_row1_col1\" class=\"data row1 col1\" >3</td>\n",
       "      <td id=\"T_b7688_row1_col2\" class=\"data row1 col2\" >55,039</td>\n",
       "    </tr>\n",
       "    <tr>\n",
       "      <th id=\"T_b7688_level1_row2\" class=\"row_heading level1 row2\" >unknown</th>\n",
       "      <td id=\"T_b7688_row2_col0\" class=\"data row2 col0\" >1,436</td>\n",
       "      <td id=\"T_b7688_row2_col1\" class=\"data row2 col1\" >0</td>\n",
       "      <td id=\"T_b7688_row2_col2\" class=\"data row2 col2\" >1,211</td>\n",
       "    </tr>\n",
       "    <tr>\n",
       "      <th id=\"T_b7688_level0_row3\" class=\"row_heading level0 row3\" rowspan=\"3\">A05-A14</th>\n",
       "      <th id=\"T_b7688_level1_row3\" class=\"row_heading level1 row3\" >F</th>\n",
       "      <td id=\"T_b7688_row3_col0\" class=\"data row3 col0\" >165,604</td>\n",
       "      <td id=\"T_b7688_row3_col1\" class=\"data row3 col1\" >4</td>\n",
       "      <td id=\"T_b7688_row3_col2\" class=\"data row3 col2\" >150,516</td>\n",
       "    </tr>\n",
       "    <tr>\n",
       "      <th id=\"T_b7688_level1_row4\" class=\"row_heading level1 row4\" >M</th>\n",
       "      <td id=\"T_b7688_row4_col0\" class=\"data row4 col0\" >181,246</td>\n",
       "      <td id=\"T_b7688_row4_col1\" class=\"data row4 col1\" >3</td>\n",
       "      <td id=\"T_b7688_row4_col2\" class=\"data row4 col2\" >164,521</td>\n",
       "    </tr>\n",
       "    <tr>\n",
       "      <th id=\"T_b7688_level1_row5\" class=\"row_heading level1 row5\" >unknown</th>\n",
       "      <td id=\"T_b7688_row5_col0\" class=\"data row5 col0\" >3,916</td>\n",
       "      <td id=\"T_b7688_row5_col1\" class=\"data row5 col1\" >0</td>\n",
       "      <td id=\"T_b7688_row5_col2\" class=\"data row5 col2\" >3,077</td>\n",
       "    </tr>\n",
       "    <tr>\n",
       "      <th id=\"T_b7688_level0_row6\" class=\"row_heading level0 row6\" rowspan=\"3\">A15-A34</th>\n",
       "      <th id=\"T_b7688_level1_row6\" class=\"row_heading level1 row6\" >F</th>\n",
       "      <td id=\"T_b7688_row6_col0\" class=\"data row6 col0\" >621,205</td>\n",
       "      <td id=\"T_b7688_row6_col1\" class=\"data row6 col1\" >75</td>\n",
       "      <td id=\"T_b7688_row6_col2\" class=\"data row6 col2\" >595,060</td>\n",
       "    </tr>\n",
       "    <tr>\n",
       "      <th id=\"T_b7688_level1_row7\" class=\"row_heading level1 row7\" >M</th>\n",
       "      <td id=\"T_b7688_row7_col0\" class=\"data row7 col0\" >635,815</td>\n",
       "      <td id=\"T_b7688_row7_col1\" class=\"data row7 col1\" >129</td>\n",
       "      <td id=\"T_b7688_row7_col2\" class=\"data row7 col2\" >608,256</td>\n",
       "    </tr>\n",
       "    <tr>\n",
       "      <th id=\"T_b7688_level1_row8\" class=\"row_heading level1 row8\" >unknown</th>\n",
       "      <td id=\"T_b7688_row8_col0\" class=\"data row8 col0\" >7,700</td>\n",
       "      <td id=\"T_b7688_row8_col1\" class=\"data row8 col1\" >0</td>\n",
       "      <td id=\"T_b7688_row8_col2\" class=\"data row8 col2\" >7,007</td>\n",
       "    </tr>\n",
       "    <tr>\n",
       "      <th id=\"T_b7688_level0_row9\" class=\"row_heading level0 row9\" rowspan=\"3\">A35-A59</th>\n",
       "      <th id=\"T_b7688_level1_row9\" class=\"row_heading level1 row9\" >F</th>\n",
       "      <td id=\"T_b7688_row9_col0\" class=\"data row9 col0\" >791,778</td>\n",
       "      <td id=\"T_b7688_row9_col1\" class=\"data row9 col1\" >1,241</td>\n",
       "      <td id=\"T_b7688_row9_col2\" class=\"data row9 col2\" >766,907</td>\n",
       "    </tr>\n",
       "    <tr>\n",
       "      <th id=\"T_b7688_level1_row10\" class=\"row_heading level1 row10\" >M</th>\n",
       "      <td id=\"T_b7688_row10_col0\" class=\"data row10 col0\" >749,897</td>\n",
       "      <td id=\"T_b7688_row10_col1\" class=\"data row10 col1\" >2,943</td>\n",
       "      <td id=\"T_b7688_row10_col2\" class=\"data row10 col2\" >723,817</td>\n",
       "    </tr>\n",
       "    <tr>\n",
       "      <th id=\"T_b7688_level1_row11\" class=\"row_heading level1 row11\" >unknown</th>\n",
       "      <td id=\"T_b7688_row11_col0\" class=\"data row11 col0\" >7,378</td>\n",
       "      <td id=\"T_b7688_row11_col1\" class=\"data row11 col1\" >7</td>\n",
       "      <td id=\"T_b7688_row11_col2\" class=\"data row11 col2\" >6,846</td>\n",
       "    </tr>\n",
       "    <tr>\n",
       "      <th id=\"T_b7688_level0_row12\" class=\"row_heading level0 row12\" rowspan=\"3\">A60-A79</th>\n",
       "      <th id=\"T_b7688_level1_row12\" class=\"row_heading level1 row12\" >F</th>\n",
       "      <td id=\"T_b7688_row12_col0\" class=\"data row12 col0\" >283,808</td>\n",
       "      <td id=\"T_b7688_row12_col1\" class=\"data row12 col1\" >9,612</td>\n",
       "      <td id=\"T_b7688_row12_col2\" class=\"data row12 col2\" >269,269</td>\n",
       "    </tr>\n",
       "    <tr>\n",
       "      <th id=\"T_b7688_level1_row13\" class=\"row_heading level1 row13\" >M</th>\n",
       "      <td id=\"T_b7688_row13_col0\" class=\"data row13 col0\" >282,027</td>\n",
       "      <td id=\"T_b7688_row13_col1\" class=\"data row13 col1\" >18,247</td>\n",
       "      <td id=\"T_b7688_row13_col2\" class=\"data row13 col2\" >259,149</td>\n",
       "    </tr>\n",
       "    <tr>\n",
       "      <th id=\"T_b7688_level1_row14\" class=\"row_heading level1 row14\" >unknown</th>\n",
       "      <td id=\"T_b7688_row14_col0\" class=\"data row14 col0\" >1,748</td>\n",
       "      <td id=\"T_b7688_row14_col1\" class=\"data row14 col1\" >36</td>\n",
       "      <td id=\"T_b7688_row14_col2\" class=\"data row14 col2\" >1,633</td>\n",
       "    </tr>\n",
       "    <tr>\n",
       "      <th id=\"T_b7688_level0_row15\" class=\"row_heading level0 row15\" rowspan=\"3\">A80+</th>\n",
       "      <th id=\"T_b7688_level1_row15\" class=\"row_heading level1 row15\" >F</th>\n",
       "      <td id=\"T_b7688_row15_col0\" class=\"data row15 col0\" >195,137</td>\n",
       "      <td id=\"T_b7688_row15_col1\" class=\"data row15 col1\" >33,003</td>\n",
       "      <td id=\"T_b7688_row15_col2\" class=\"data row15 col2\" >159,682</td>\n",
       "    </tr>\n",
       "    <tr>\n",
       "      <th id=\"T_b7688_level1_row16\" class=\"row_heading level1 row16\" >M</th>\n",
       "      <td id=\"T_b7688_row16_col0\" class=\"data row16 col0\" >100,322</td>\n",
       "      <td id=\"T_b7688_row16_col1\" class=\"data row16 col1\" >27,563</td>\n",
       "      <td id=\"T_b7688_row16_col2\" class=\"data row16 col2\" >71,343</td>\n",
       "    </tr>\n",
       "    <tr>\n",
       "      <th id=\"T_b7688_level1_row17\" class=\"row_heading level1 row17\" >unknown</th>\n",
       "      <td id=\"T_b7688_row17_col0\" class=\"data row17 col0\" >810</td>\n",
       "      <td id=\"T_b7688_row17_col1\" class=\"data row17 col1\" >87</td>\n",
       "      <td id=\"T_b7688_row17_col2\" class=\"data row17 col2\" >682</td>\n",
       "    </tr>\n",
       "    <tr>\n",
       "      <th id=\"T_b7688_level0_row18\" class=\"row_heading level0 row18\" rowspan=\"3\">unknown</th>\n",
       "      <th id=\"T_b7688_level1_row18\" class=\"row_heading level1 row18\" >F</th>\n",
       "      <td id=\"T_b7688_row18_col0\" class=\"data row18 col0\" >954</td>\n",
       "      <td id=\"T_b7688_row18_col1\" class=\"data row18 col1\" >6</td>\n",
       "      <td id=\"T_b7688_row18_col2\" class=\"data row18 col2\" >889</td>\n",
       "    </tr>\n",
       "    <tr>\n",
       "      <th id=\"T_b7688_level1_row19\" class=\"row_heading level1 row19\" >M</th>\n",
       "      <td id=\"T_b7688_row19_col0\" class=\"data row19 col0\" >1,035</td>\n",
       "      <td id=\"T_b7688_row19_col1\" class=\"data row19 col1\" >2</td>\n",
       "      <td id=\"T_b7688_row19_col2\" class=\"data row19 col2\" >969</td>\n",
       "    </tr>\n",
       "    <tr>\n",
       "      <th id=\"T_b7688_level1_row20\" class=\"row_heading level1 row20\" >unknown</th>\n",
       "      <td id=\"T_b7688_row20_col0\" class=\"data row20 col0\" >924</td>\n",
       "      <td id=\"T_b7688_row20_col1\" class=\"data row20 col1\" >1</td>\n",
       "      <td id=\"T_b7688_row20_col2\" class=\"data row20 col2\" >872</td>\n",
       "    </tr>\n",
       "  </tbody>\n",
       "</table>\n"
      ],
      "text/plain": [
       "<pandas.io.formats.style.Styler at 0x1ef3137fee0>"
      ]
     },
     "metadata": {},
     "execution_count": 27
    }
   ],
   "metadata": {}
  }
 ],
 "metadata": {
  "hide_input": false,
  "kernelspec": {
   "name": "python3",
   "display_name": "Python 3.9.6 64-bit ('venv': venv)"
  },
  "interpreter": {
   "hash": "32685daa38e1e2bb7ffba546fe2d82b6f7991e2d5184ed5fb012b6aaf9bea6c1"
  },
  "language_info": {
   "name": "python",
   "version": "3.9.6",
   "mimetype": "text/x-python",
   "codemirror_mode": {
    "name": "ipython",
    "version": 3
   },
   "pygments_lexer": "ipython3",
   "nbconvert_exporter": "python",
   "file_extension": ".py"
  }
 },
 "nbformat": 4,
 "nbformat_minor": 5
}