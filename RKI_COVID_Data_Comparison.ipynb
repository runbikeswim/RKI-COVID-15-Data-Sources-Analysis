{
 "cells": [
  {
   "cell_type": "markdown",
   "source": [
    "# Compare and Analyze Data on COVID-19 Infections Provided by the [Robert Koch Institute (RKI)](https://www.rki.de/EN/Home/homepage_node.html)"
   ],
   "metadata": {}
  },
  {
   "cell_type": "markdown",
   "source": [
    "The [Robert Koch Institute (RKI)](https://www.rki.de/EN/Home/homepage_node.html) is the federal government agency responsible for disease control and prevention in Germany. Is publishes data about COVID-19 for all of Germany and uses various channels for that (see [this](https://www.rki.de/EN/Content/infections/epidemiology/outbreaks/COVID-19/COVID19.html) page for an overview).\r\n",
    "\r\n",
    "This notebook has been created for analyzing and comparing data from two different sources that are updated by the RKI daily, but have a different level of detail. The main objective is to understand how the very fine grained numbers provided via github can be aggregated such that they match what is shown in the \r\n",
    "[RKI's COVID-19 dashboard](https://corona.rki.de/)."
   ],
   "metadata": {}
  },
  {
   "cell_type": "markdown",
   "source": [
    "## Preliminaries"
   ],
   "metadata": {}
  },
  {
   "cell_type": "code",
   "execution_count": null,
   "source": [
    "import json\r\n",
    "\r\n",
    "import datetime as dt\r\n",
    "import numpy as np\r\n",
    "import pandas as pd\r\n",
    "\r\n",
    "from collections import defaultdict\r\n",
    "from urllib.request import urlopen"
   ],
   "outputs": [],
   "metadata": {}
  },
  {
   "cell_type": "code",
   "execution_count": null,
   "source": [
    "# define constants that are used for formatting output \r\n",
    " \r\n",
    "INTEGER_FORMAT_STR = \"{:,.0f}\"\r\n",
    "FOUR_DIGIT_YEAR_FORMAT_STR = \"{:.0f}\"\r\n",
    "LOW_PRECISION_FLOAT_FORMAT_STR = \"{:,.1f}\"\r\n",
    "MEDIUM_PRECISION_FLOAT_FORMAT_STR = \"{:,.3f}\"\r\n",
    "HIGH_PRECISION_FLOAT_FORMAT_STR = \"{:,.6f}\" \r\n",
    "PERCENT_FORMAT_STR = \"{:.2%}\"\r\n",
    "PER_THOUSAND_FORMATTER = lambda p: f\"{p*1000:.2f}\\u2030\"\r\n",
    "DATE_FORMATTER = lambda d: d.strftime(\"%m-%d\")\r\n",
    "DUMMY_FORMAT_STR = \"{:}\"\r\n",
    "\r\n",
    "FORMAT_MAPPER = {\"area\": INTEGER_FORMAT_STR,\r\n",
    "                 \"category\": DUMMY_FORMAT_STR,\r\n",
    "                 \"cases\": INTEGER_FORMAT_STR,\r\n",
    "                 \"cases last 7 days\": INTEGER_FORMAT_STR,\r\n",
    "                 \"cases per 100k\": LOW_PRECISION_FLOAT_FORMAT_STR,\r\n",
    "                 \"cases per pop.\": PERCENT_FORMAT_STR,\r\n",
    "                 \"cases last 7 days per 100k\": LOW_PRECISION_FLOAT_FORMAT_STR,\r\n",
    "                 \"deaths\": INTEGER_FORMAT_STR,\r\n",
    "                 \"deaths last 7 days\": INTEGER_FORMAT_STR,\r\n",
    "                 \"deaths per 100k\": HIGH_PRECISION_FLOAT_FORMAT_STR,\r\n",
    "                 \"deaths per pop.\": PER_THOUSAND_FORMATTER,\r\n",
    "                 \"deaths last 7 days per 100k\": MEDIUM_PRECISION_FLOAT_FORMAT_STR,\r\n",
    "                 \"death rate\": PERCENT_FORMAT_STR,\r\n",
    "                 \"death rate last 7 days\": PERCENT_FORMAT_STR,\r\n",
    "                 \"recovered\": INTEGER_FORMAT_STR,\r\n",
    "                 \"recovered last 7 days\": INTEGER_FORMAT_STR,\r\n",
    "                 \"recovered per 100k\": LOW_PRECISION_FLOAT_FORMAT_STR,\r\n",
    "                 \"recovered per pop.\": PERCENT_FORMAT_STR,\r\n",
    "                 \"recovered last 7 days per 100k\": LOW_PRECISION_FLOAT_FORMAT_STR,\r\n",
    "                 \"district name\": DUMMY_FORMAT_STR ,\r\n",
    "                 \"population\": INTEGER_FORMAT_STR,\r\n",
    "                 \"state ID\": DUMMY_FORMAT_STR,\r\n",
    "                 \"state name\": DUMMY_FORMAT_STR ,\r\n",
    "                 \"state pop.\": INTEGER_FORMAT_STR,\r\n",
    "                 \"update time\": DATE_FORMATTER,\r\n",
    "}"
   ],
   "outputs": [],
   "metadata": {}
  },
  {
   "cell_type": "markdown",
   "source": [
    "## Load and Analyze Data From the [NPGEO Corona Hub 2020](https://npgeo-corona-npgeo-de.hub.arcgis.com/)"
   ],
   "metadata": {}
  },
  {
   "cell_type": "markdown",
   "source": [
    "For all German districts, up-to-date COVID-19 data is available via [this](https://opendata.arcgis.com/datasets/917fc37a709542548cc3be077a786c17_0) page. This data appears to be the basis for the [COVID-19 dashboard](https://corona.rki.de/)."
   ],
   "metadata": {}
  },
  {
   "cell_type": "code",
   "execution_count": null,
   "source": [
    "# URL for loading data as comma-seperated-data-file\r\n",
    "\r\n",
    "RKI_ARCGIS_URL = \"https://opendata.arcgis.com/datasets/917fc37a709542548cc3be077a786c17_0.csv\""
   ],
   "outputs": [],
   "metadata": {}
  },
  {
   "cell_type": "code",
   "execution_count": null,
   "source": [
    "# dictionary for renaming and harmonizing column names \r\n",
    "\r\n",
    "RKI_ARCGIS_COLUMN_NAME_MAPPER = {\"cases7_per_100k\": \"cases last 7 days per 100k\",\r\n",
    "                                 \"cases7_lk\" : \"cases last 7 days\",\r\n",
    "                                 \"county\": \"district name\",\r\n",
    "                                 \"cases_per_100k\": \"cases per 100k\",\r\n",
    "                                 \"cases_per_population\": \"cases per pop.\",\r\n",
    "                                 \"cases\": \"cases\",\r\n",
    "                                 \"deaths\": \"deaths\",\r\n",
    "                                 \"death_rate\": \"death rate\",\r\n",
    "                                 \"death7_lk\": \"deaths last 7 days\",\r\n",
    "                                 \"EWZ\": \"population\",\r\n",
    "                                 \"BL_ID\": \"state ID\",\r\n",
    "                                 \"EWZ_BL\": \"state pop.\",\r\n",
    "                                 \"last_update\": \"update time\",\r\n",
    "                                 \"RS\": \"district ID\",\r\n",
    "                                 \"BEZ\": \"category\",\r\n",
    "                                 \"GEN\": \"municipality name\",\r\n",
    "                                 \"BL\": \"state name\",\r\n",
    "                                 \"KFL\": \"area\",\r\n",
    "}\r\n",
    "\r\n",
    "RKI_ARCGIS_VALUE_CONVERTERS = {\"last_update\": lambda s: dt.datetime.strptime(s, \"%d.%m.%Y, %H:%M Uhr\")}"
   ],
   "outputs": [],
   "metadata": {}
  },
  {
   "cell_type": "markdown",
   "source": [
    "### Read Data"
   ],
   "metadata": {}
  },
  {
   "cell_type": "code",
   "execution_count": null,
   "source": [
    "# load main data, but restrict the created dataframe to the most relevant columns \r\n",
    "\r\n",
    "RKI_ARCGIS_COVID_BY_DISTRICT = \\\r\n",
    "    pd.read_csv(RKI_ARCGIS_URL, usecols=list(RKI_ARCGIS_COLUMN_NAME_MAPPER.keys()),\r\n",
    "                converters=RKI_ARCGIS_VALUE_CONVERTERS)\\\r\n",
    "        .rename(columns=RKI_ARCGIS_COLUMN_NAME_MAPPER)\\\r\n",
    "        .sort_values(by=\"district ID\")\\\r\n",
    "        .set_index(\"district ID\")\r\n",
    "\r\n",
    "# add column for the number of deaths within the last seven days adjusted to a population size of 100.000 people\r\n",
    "\r\n",
    "RKI_ARCGIS_COVID_BY_DISTRICT[\"deaths last 7 days per 100k\"] = \\\r\n",
    "    10**5 * RKI_ARCGIS_COVID_BY_DISTRICT[\"deaths last 7 days\"] \\\r\n",
    "    / RKI_ARCGIS_COVID_BY_DISTRICT[\"population\"]"
   ],
   "outputs": [],
   "metadata": {}
  },
  {
   "cell_type": "code",
   "execution_count": null,
   "source": [
    "# print date of most recent entry in the loaded data\r\n",
    "\r\n",
    "print(RKI_ARCGIS_COVID_BY_DISTRICT[\"update time\"].max().strftime(\"last update is from %Y-%m-%d\"))"
   ],
   "outputs": [],
   "metadata": {}
  },
  {
   "cell_type": "markdown",
   "source": [
    "## Load and Analyze RKI's Data on COVID-19 From [GitHub](https://github.com/robert-koch-institut/SARS-CoV-2_Infektionen_in_Deutschland)"
   ],
   "metadata": {}
  },
  {
   "cell_type": "markdown",
   "source": [
    "Repository [\"SARS-CoV-2 Infektionen in Deutschland\"](https://github.com/robert-koch-institut/SARS-CoV-2_Infektionen_in_Deutschland) (SARS-CoV-2 Infections in Germany) contains\r\n",
    "up-to-date numbers of COVID-19 cases in Germany. The data appears to be what is reported by the districts to the RKI as it lists new cases based on the reporting date, beginning of the disease (reference date), age group, sex and district.\r\n",
    "\r\n",
    "In [Readme.md](https://github.com/robert-koch-institut/SARS-CoV-2_Infektionen_in_Deutschland/blob/master/Readme.md), an explanation for the data is provided (in German). "
   ],
   "metadata": {}
  },
  {
   "cell_type": "code",
   "execution_count": null,
   "source": [
    "# define constants for the URLs that give access to data\r\n",
    "\r\n",
    "RKI_GITHUB_REPOSITORY_URL = \"https://github.com/robert-koch-institut/SARS-CoV-2_Infektionen_in_Deutschland\"\r\n",
    "RKI_GITHUB_RAW_DATA_BASE_URL = RKI_GITHUB_REPOSITORY_URL + \"/raw/master\"\r\n",
    "RKI_GITHUB_ZENODO_REL_URL = \"/.zenodo.json\"\r\n",
    "RKI_GITHUB_COVID_INFECTIONS_REL_URL = \"/Aktuell_Deutschland_SarsCov2_Infektionen.csv\""
   ],
   "outputs": [],
   "metadata": {}
  },
  {
   "cell_type": "code",
   "execution_count": null,
   "source": [
    "# dictionary for renaming and harmonizing column names \r\n",
    "\r\n",
    "RKI_GITHUB_COLUMN_NAME_MAPPER = {\r\n",
    "    \"IdLandkreis\": \"district ID\", \r\n",
    "    \"Gemeindename\": \"municipality name\", \r\n",
    "    \"Flaeche\": \"area\", \r\n",
    "    \"EW_insgesamt\": \"population\",\r\n",
    "    \"EW_maennlich\": \"population male\", \r\n",
    "    \"EW_weiblich\" : \"population female\",\r\n",
    "    \"Altersgruppe\": \"age group\", \r\n",
    "    \"Geschlecht\": \"sex\", \r\n",
    "    \"Meldedatum\": \"reporting date\", \r\n",
    "    \"Refdatum\": \"reference date\",\r\n",
    "    \"IstErkrankungsbeginn\": \"is start of desease\", \r\n",
    "    \"NeuerFall\": \"is new case\", \r\n",
    "    \"NeuerTodesfall\": \"is new death\", \r\n",
    "    \"NeuGenesen\": \"is new recovered\",\r\n",
    "    \"AnzahlFall\": \"cases\", \r\n",
    "    \"AnzahlTodesfall\": \"deaths\", \r\n",
    "    \"AnzahlGenesen\": \"recovered\",\r\n",
    "}\r\n",
    "\r\n",
    "unknown_converter = lambda s : \"unknown\" if s == \"unbekannt\" else s\r\n",
    "\r\n",
    "RKI_GITHUB_VALUE_CONVERTERS = {\r\n",
    "    \"Altersgruppe\": unknown_converter,\r\n",
    "    \"Geschlecht\": lambda s: \"F\" if s == \"W\" else unknown_converter(s), \r\n",
    "}\r\n",
    "\r\n",
    "# dictionary for setting the date type for some of the columns\r\n",
    "\r\n",
    "RKI_GITHUB_COLUMN_TYPES_MAPPER = {\r\n",
    "    \"district ID\": \"int16\",\r\n",
    "    \"reporting date\": \"datetime64\", \r\n",
    "    \"reference date\": \"datetime64\",\r\n",
    "    \"is start of desease\": \"int32\", \r\n",
    "    \"is new case\": \"int8\", \r\n",
    "    \"is new death\": \"int8\", \r\n",
    "    \"is new recovered\": \"int8\",\r\n",
    "}"
   ],
   "outputs": [],
   "metadata": {}
  },
  {
   "cell_type": "markdown",
   "source": [
    "### Read Metadata"
   ],
   "metadata": {}
  },
  {
   "cell_type": "markdown",
   "source": [
    "The RKI publishes metadata based on [zenodo's](https://about.zenodo.org/) JSON format. Here, it is used to detect the publication date of the data. Typically, this is shortly after 3 AM of the current day (local time in Germany). "
   ],
   "metadata": {}
  },
  {
   "cell_type": "code",
   "execution_count": null,
   "source": [
    "RKI_GITHUB_METADATA = json.loads(urlopen(RKI_GITHUB_RAW_DATA_BASE_URL + RKI_GITHUB_ZENODO_REL_URL).read())\r\n",
    "RKI_GITHUB_PUBLICATION_DATE = pd.to_datetime(RKI_GITHUB_METADATA[\"publication_date\"])\r\n",
    "print(f\"publication date is {RKI_GITHUB_PUBLICATION_DATE:%Y-%m-%d %H:%M:%S%z}\")"
   ],
   "outputs": [],
   "metadata": {}
  },
  {
   "cell_type": "markdown",
   "source": [
    "### Read Data"
   ],
   "metadata": {}
  },
  {
   "cell_type": "markdown",
   "source": [
    "Load data describing COVID-19 infections and deaths etc."
   ],
   "metadata": {}
  },
  {
   "cell_type": "code",
   "execution_count": null,
   "source": [
    "RKI_GITHUB_COVID_INFECTIONS = pd.read_csv(RKI_GITHUB_RAW_DATA_BASE_URL + RKI_GITHUB_COVID_INFECTIONS_REL_URL, \r\n",
    "                                    converters=RKI_GITHUB_VALUE_CONVERTERS)\\\r\n",
    "                            .rename(columns=RKI_GITHUB_COLUMN_NAME_MAPPER)\\\r\n",
    "                            .astype(RKI_GITHUB_COLUMN_TYPES_MAPPER)"
   ],
   "outputs": [],
   "metadata": {}
  },
  {
   "cell_type": "markdown",
   "source": [
    "### Trying to Understand [Readme.md](https://github.com/robert-koch-institut/SARS-CoV-2_Infektionen_in_Deutschland/blob/master/Readme.md)"
   ],
   "metadata": {}
  },
  {
   "cell_type": "markdown",
   "source": [
    "According to the text in file [Readme.md](https://github.com/robert-koch-institut/SARS-CoV-2_Infektionen_in_Deutschland/blob/master/Readme.md), are the values for the number of \r\n",
    "infected (column `cases` - `AnzahlFall` in the original data), deceased (column `deaths` - column `AnzahlTodesfall` before renaming) and recovered \r\n",
    "(column `recovered` - `AnzahlGenesen` before renaming) people, **[natural numbers](https://en.wikipedia.org/wiki/Natural_number)** (i.e. elements of {1,2,3 ...}). \r\n",
    "\r\n",
    "However, negative values seem to occur in the data. "
   ],
   "metadata": {}
  },
  {
   "cell_type": "code",
   "execution_count": null,
   "source": [
    "# show that there are rows, for which the value in one of the columns \"cases\", \"deaths\" or \"recovered\" is negative\r\n",
    "\r\n",
    "((RKI_GITHUB_COVID_INFECTIONS[\"cases\"] < 0) |  \\\r\n",
    "    (RKI_GITHUB_COVID_INFECTIONS[\"deaths\"] < 0) |  \\\r\n",
    "        (RKI_GITHUB_COVID_INFECTIONS[\"recovered\"] < 0))\\\r\n",
    "            .value_counts()[True] > 0"
   ],
   "outputs": [],
   "metadata": {}
  },
  {
   "cell_type": "markdown",
   "source": [
    "Hence, despite what's stated in `Readme.md`, values of the respective columns are **integers** (i.e. elements of {... -3, -2, -1, 0,1,2,3 ...}) and **not** natural numbers. "
   ],
   "metadata": {}
  },
  {
   "cell_type": "markdown",
   "source": [
    "If one wants to determine to total number of COVID-19 cases reported in Germany, `Readme.md` seems to imply that only such rows should be considered for which the value \r\n",
    "column `is new case` (`NeuerFall` in the original data) is not 0, because 0 indicates that the respective case was already reported previously. \r\n",
    "\r\n",
    "Additionally, one would think that rows for which the values in column `is new case` is -1 should be subtracted, because this value indicates that cases have been falsely reported in the past.\r\n",
    "\r\n",
    "However, it appears that \r\n",
    "$$\r\n",
    "\r\n",
    " n = -1  \\Leftrightarrow c < 0\r\n",
    "$$ \r\n",
    "if $n$ stands for the value in column `is new case` and $c$ for the value in column `cases` in a row. This means that values for such rows should **not be subtracted but added** (since thy are negative)."
   ],
   "metadata": {}
  },
  {
   "cell_type": "code",
   "execution_count": null,
   "source": [
    "# verify that in all rows of dataframe RKI_GITHUB_COVID_INFECTIONS, the value in column \"is new case\" == -1 iff the value in column \"cases\" is < 0\r\n",
    "\r\n",
    "equiv = lambda a,b: ((~a) | b) & ((~b) | a) \r\n",
    "equiv(RKI_GITHUB_COVID_INFECTIONS[\"is new case\"] == -1, RKI_GITHUB_COVID_INFECTIONS[\"cases\"] < 0).all()"
   ],
   "outputs": [],
   "metadata": {}
  },
  {
   "cell_type": "markdown",
   "source": [
    "Hence, it should be correct to simply add all values of column `cases`, where `is new case` is not 0 to get the total number of cases in Germany ..."
   ],
   "metadata": {}
  },
  {
   "cell_type": "code",
   "execution_count": null,
   "source": [
    "# print the sum for column \"cases\", filtered by \"is new case\" != 0 (i.e. is new case) \r\n",
    "\r\n",
    "print(f'{RKI_GITHUB_COVID_INFECTIONS.loc[RKI_GITHUB_COVID_INFECTIONS[\"is new case\"] != 0, \"cases\"].sum():,d}')"
   ],
   "outputs": [],
   "metadata": {}
  },
  {
   "cell_type": "markdown",
   "source": [
    "... but this number is **way too small**. \r\n",
    "\r\n",
    "The number that is shown on the dashboard can be retrieved from the data by adding _all positive values_ in column `cases`. "
   ],
   "metadata": {}
  },
  {
   "cell_type": "code",
   "execution_count": null,
   "source": [
    "print(\"total cases for Germany:\")\r\n",
    "# print the sum for all positive values in column \"cases\" \r\n",
    "print(f' GitHub: {RKI_GITHUB_COVID_INFECTIONS.loc[RKI_GITHUB_COVID_INFECTIONS[\"cases\"] > 0, \"cases\"].sum():,d}')\r\n",
    "# sum of all cases in the data from ARCGIS\r\n",
    "print(f' ARCGIS: {RKI_ARCGIS_COVID_BY_DISTRICT[\"cases\"].sum():,d}')"
   ],
   "outputs": [],
   "metadata": {}
  },
  {
   "cell_type": "markdown",
   "source": [
    "### Compute Totals"
   ],
   "metadata": {}
  },
  {
   "cell_type": "markdown",
   "source": [
    "Based on te interpretation of the data described above, the sum of columns `cases`, `deaths` and `recovered` is calculated for each district.\r\n",
    "\r\n",
    "For the sake of convenience, a new dataframe is defined, in which negative values for the number of COVID-19 cases, deaths and recovered patients are set to zero. This is used later for the aggregation of data."
   ],
   "metadata": {}
  },
  {
   "cell_type": "code",
   "execution_count": null,
   "source": [
    "# define dataframe that without the negative values in RKI_GITHUB_COVID_INFECTIONS\r\n",
    "\r\n",
    "RKI_GITHUB_COVID_INFECTIONS_WITHOUT_NEGATIVES = \\\r\n",
    "    pd.concat([RKI_GITHUB_COVID_INFECTIONS[[\"district ID\", \"age group\", \"sex\", \"reporting date\", \"reference date\"]], \r\n",
    "              RKI_GITHUB_COVID_INFECTIONS[[\"cases\", \"deaths\", \"recovered\"]].apply(lambda a: np.maximum(a,0))], \r\n",
    "              axis=\"columns\")"
   ],
   "outputs": [],
   "metadata": {}
  },
  {
   "cell_type": "code",
   "execution_count": null,
   "source": [
    "#  sum up \"cases\", \"deaths\", \"recovered\" for each district\r\n",
    "RKI_GITHUB_COVID_BY_DISTRICT_TOTALS = \\\r\n",
    "    RKI_GITHUB_COVID_INFECTIONS_WITHOUT_NEGATIVES[[\"district ID\", \"cases\", \"deaths\", \"recovered\"]].groupby(by=\"district ID\").sum()\r\n",
    "\r\n",
    "# copy population size for each district from RKI_ARCGIS_COVID_BY_DISTRICT\r\n",
    "RKI_GITHUB_COVID_BY_DISTRICT_TOTALS[\"population\"] = RKI_ARCGIS_COVID_BY_DISTRICT[\"population\"]"
   ],
   "outputs": [],
   "metadata": {}
  },
  {
   "cell_type": "markdown",
   "source": [
    "### Compute Numbers per 100K People "
   ],
   "metadata": {}
  },
  {
   "cell_type": "markdown",
   "source": [
    "The sums in columns `cases`, `deaths` and `recovered` are normalized by the population size of the district. \r\n",
    "For the district's population size, the data from the [NPGEO Corona Hub 2020](https://npgeo-corona-npgeo-de.hub.arcgis.com/) is used."
   ],
   "metadata": {}
  },
  {
   "cell_type": "code",
   "execution_count": null,
   "source": [
    "# define a new dataframe by dividing the totals by the population size of each district and multiplying that with 100,000\r\n",
    "\r\n",
    "RKI_GITHUB_COVID_BY_DISTRICT_PER_100K = \\\r\n",
    "    pd.DataFrame(data=10**5 * RKI_GITHUB_COVID_BY_DISTRICT_TOTALS[[\"cases\", \"deaths\", \"recovered\"]].values \\\r\n",
    "                 / np.array(3 * [RKI_GITHUB_COVID_BY_DISTRICT_TOTALS[\"population\"].values]).T,\r\n",
    "                 index=RKI_GITHUB_COVID_BY_DISTRICT_TOTALS.index,\r\n",
    "                 columns=[\"cases per 100k\", \"deaths per 100k\", \"recovered per 100k\"])"
   ],
   "outputs": [],
   "metadata": {}
  },
  {
   "cell_type": "markdown",
   "source": [
    "### Compute Totals for the Last Seven Days"
   ],
   "metadata": {}
  },
  {
   "cell_type": "markdown",
   "source": [
    "The values in columns `cases`, `deaths` and `recovered` of the last seven days are summed up."
   ],
   "metadata": {}
  },
  {
   "cell_type": "code",
   "execution_count": null,
   "source": [
    "# define the date of the earlist data that should be considered\r\n",
    "number_of_days = 7 \r\n",
    "cut_off_date = np.datetime64(RKI_GITHUB_PUBLICATION_DATE.date() - dt.timedelta(days=number_of_days))\r\n",
    "\r\n",
    "# compute sums for data that has been reported on or after the cut_off_date\r\n",
    "RKI_GITHUB_COVID_BY_DISTRICT_LAST_7_DAYS_TOTALS = \\\r\n",
    "        RKI_GITHUB_COVID_INFECTIONS_WITHOUT_NEGATIVES.loc[RKI_GITHUB_COVID_INFECTIONS_WITHOUT_NEGATIVES[\"reporting date\"] >= cut_off_date]\\\r\n",
    "                .groupby(by=\"district ID\").sum()\\\r\n",
    "                .rename(columns={\"cases\": \"cases last 7 days\", \"deaths\": \"deaths last 7 days\", \"recovered\": \"recovered last 7 days\"})\r\n",
    "\r\n",
    "# ensure that there is data for each district by filling missing data with zeros\r\n",
    "# define a dataframe containing the most recent data of each district\r\n",
    "df = RKI_GITHUB_COVID_INFECTIONS_WITHOUT_NEGATIVES[[\"district ID\", \"reporting date\"]].sort_values(by=[\"district ID\", \"reporting date\"])\\\r\n",
    "        .groupby([\"district ID\"]).last()\r\n",
    "\r\n",
    "missing_rows = df.loc[df[\"reporting date\"] < cut_off_date].index.shape[0]\r\n",
    "if  missing_rows > 0:\r\n",
    "    # there are districts that have not reported data within the last 7 days\r\n",
    "    # create dataframe containing the zeroes filling the missing data \r\n",
    "    ddf = pd.DataFrame(data=np.zeros((missing_rows, RKI_GITHUB_COVID_BY_DISTRICT_LAST_7_DAYS_TOTALS.shape[1]), dtype=np.int64), \r\n",
    "                       index=df.loc[df[\"reporting date\"] < cut_off_date].index,\r\n",
    "                       columns=RKI_GITHUB_COVID_BY_DISTRICT_LAST_7_DAYS_TOTALS.columns)\r\n",
    "    # append zeros\r\n",
    "    RKI_GITHUB_COVID_BY_DISTRICT_LAST_7_DAYS_TOTALS = RKI_GITHUB_COVID_BY_DISTRICT_LAST_7_DAYS_TOTALS.append(ddf)"
   ],
   "outputs": [],
   "metadata": {}
  },
  {
   "cell_type": "markdown",
   "source": [
    "### Compute Numbers for the Last Seven Days per 100K People "
   ],
   "metadata": {}
  },
  {
   "cell_type": "markdown",
   "source": [
    "Normalize the sums for the last seven days by the districts' population size "
   ],
   "metadata": {}
  },
  {
   "cell_type": "code",
   "execution_count": null,
   "source": [
    "# define a new dataframe computing values by dividing the totals for the last seven days by the population size of each district and multiplying it with 100,000\r\n",
    " \r\n",
    "RKI_GITHUB_COVID_BY_DISTRICT_LAST_7_DAYS_PER_100K = \\\r\n",
    "    pd.DataFrame(data=10**5 * RKI_GITHUB_COVID_BY_DISTRICT_LAST_7_DAYS_TOTALS.values \\\r\n",
    "                 / np.array(3 * [RKI_GITHUB_COVID_BY_DISTRICT_TOTALS.loc[RKI_GITHUB_COVID_BY_DISTRICT_LAST_7_DAYS_TOTALS.index, \"population\"].values]).T,\r\n",
    "                 index=RKI_GITHUB_COVID_BY_DISTRICT_LAST_7_DAYS_TOTALS.index,\r\n",
    "                 columns=[\"cases last 7 days per 100k\", \"deaths last 7 days per 100k\", \"recovered last 7 days per 100k\"])"
   ],
   "outputs": [],
   "metadata": {}
  },
  {
   "cell_type": "markdown",
   "source": [
    "### Create a DataFrame Containing all Values Derived From the COVID-19 Data from GitHub"
   ],
   "metadata": {}
  },
  {
   "cell_type": "code",
   "execution_count": null,
   "source": [
    "# combine all of the dataframes with data that has been derived from RKI_GITHUB_COVID_INFECTIONS into one dataframe, \r\n",
    "# only the district names are taken from RKI_ARCGIS_COVID_BY_DISTRICT\r\n",
    "\r\n",
    "RKI_GITHUB_COVID_BY_DISTRICT = \\\r\n",
    "    pd.concat([RKI_ARCGIS_COVID_BY_DISTRICT[\"district name\"],\r\n",
    "               RKI_GITHUB_COVID_BY_DISTRICT_TOTALS, \r\n",
    "               RKI_GITHUB_COVID_BY_DISTRICT_PER_100K, \r\n",
    "               RKI_GITHUB_COVID_BY_DISTRICT_LAST_7_DAYS_TOTALS,\r\n",
    "               RKI_GITHUB_COVID_BY_DISTRICT_LAST_7_DAYS_PER_100K], axis=\"columns\")"
   ],
   "outputs": [],
   "metadata": {}
  },
  {
   "cell_type": "markdown",
   "source": [
    "## Verify that Derived Data From the [COVID-19 Data from GitHub](https://github.com/robert-koch-institut/SARS-CoV-2_Infektionen_in_Deutschland) and the Data From [NPGEO Corona Hub 2020](https://npgeo-corona-npgeo-de.hub.arcgis.com/) are (More or Less) Identical"
   ],
   "metadata": {}
  },
  {
   "cell_type": "code",
   "execution_count": null,
   "source": [
    "EPSILON = 10**-11 # threshold for treating float values as zero\r\n",
    "common_columns = list(set(RKI_ARCGIS_COVID_BY_DISTRICT.columns) & set(RKI_GITHUB_COVID_BY_DISTRICT.columns)) \r\n",
    "common_numerical_columns = [c for c in common_columns if RKI_GITHUB_COVID_BY_DISTRICT[c].dtypes != object]\r\n",
    "\r\n",
    "# return True, if all the differences between the absolute values in the common numerical columns is smaller than the threshold\r\n",
    "\r\n",
    "np.max(np.max(np.abs(RKI_ARCGIS_COVID_BY_DISTRICT[common_numerical_columns] - RKI_GITHUB_COVID_BY_DISTRICT[common_numerical_columns]))) < EPSILON"
   ],
   "outputs": [],
   "metadata": {}
  },
  {
   "cell_type": "markdown",
   "source": [
    "## Show Some Data"
   ],
   "metadata": {}
  },
  {
   "cell_type": "markdown",
   "source": [
    "Based on the result of the verification above, it seems that the interpretation of the data that is provided via GitHub is correct ... or at least identical with what is shown\r\n",
    "in the COVID-19 Dashboard. Hence, the following list the most affected districts in Germany can be assumed to be correct."
   ],
   "metadata": {}
  },
  {
   "cell_type": "code",
   "execution_count": null,
   "source": [
    "n = 30\r\n",
    "RKI_GITHUB_COVID_BY_DISTRICT.sort_values(by=\"cases last 7 days per 100k\", ascending=False).head(n).style.hide_index().format(FORMAT_MAPPER)"
   ],
   "outputs": [],
   "metadata": {}
  },
  {
   "cell_type": "markdown",
   "source": [
    "Equally, the following totals for all of Germany appear correct"
   ],
   "metadata": {}
  },
  {
   "cell_type": "code",
   "execution_count": null,
   "source": [
    "columns = [\"population\", \"cases\", \"cases last 7 days\", \"deaths\", \"deaths last 7 days\", \"recovered\", \"recovered last 7 days\"]\r\n",
    "RKI_GITHUB_COVID_BY_DISTRICT[columns].sum().to_frame().T.style.hide_index().format(FORMAT_MAPPER)"
   ],
   "outputs": [],
   "metadata": {}
  },
  {
   "cell_type": "markdown",
   "source": [
    "Likewise, the sums for the last 7 days per 100,000 people can be computed"
   ],
   "metadata": {}
  },
  {
   "cell_type": "code",
   "execution_count": null,
   "source": [
    "columns = [\"cases last 7 days\", \"deaths last 7 days\", \"recovered last 7 days\"]\r\n",
    "(10**5 * RKI_GITHUB_COVID_BY_DISTRICT[columns].sum() / RKI_GITHUB_COVID_BY_DISTRICT[\"population\"].sum())\\\r\n",
    "    .to_frame().T.rename(columns={c:c+\" per 100k\" for c in columns}).style.hide_index().format(FORMAT_MAPPER)"
   ],
   "outputs": [],
   "metadata": {}
  },
  {
   "cell_type": "markdown",
   "source": [
    "However, the following numbers, which should reflect the increase of cases, deaths and recovered people during the last day, differ from what the RKI reports. \r\n",
    "This is a mystery ..."
   ],
   "metadata": {}
  },
  {
   "cell_type": "code",
   "execution_count": null,
   "source": [
    "columns = [\"district ID\", \"reporting date\"]\r\n",
    "RKI_GITHUB_COVID_INFECTIONS_WITHOUT_NEGATIVES.sort_values(by=columns).groupby(by=columns).sum()\\\r\n",
    "    .groupby(by=\"district ID\").last().sum()\\\r\n",
    "        .to_frame().T.style.hide_index().format(FORMAT_MAPPER)"
   ],
   "outputs": [],
   "metadata": {}
  },
  {
   "cell_type": "markdown",
   "source": [
    "### Compute Totals by Age Group and Sex"
   ],
   "metadata": {}
  },
  {
   "cell_type": "markdown",
   "source": [
    "In order to close this notebook with something that is not mysterious, the total number of cases, deaths and recovered people is computed by age group and sex. \r\n",
    "This is again in sync with the data of the COVID-19 dashboard."
   ],
   "metadata": {}
  },
  {
   "cell_type": "code",
   "execution_count": null,
   "source": [
    "RKI_GITHUB_COVID_BY_AGE_GROUP_AND_SEX_TOTALS = \\\r\n",
    "    RKI_GITHUB_COVID_INFECTIONS_WITHOUT_NEGATIVES[[\"age group\", \"sex\", \"cases\", \"deaths\", \"recovered\"]].groupby(by=[\"age group\", \"sex\"]).sum()\r\n",
    "RKI_GITHUB_COVID_BY_AGE_GROUP_AND_SEX_TOTALS.style.format(FORMAT_MAPPER)"
   ],
   "outputs": [],
   "metadata": {}
  }
 ],
 "metadata": {
  "hide_input": false,
  "kernelspec": {
   "name": "python3",
   "display_name": "Python 3.9.6 64-bit ('venv': venv)"
  },
  "interpreter": {
   "hash": "32685daa38e1e2bb7ffba546fe2d82b6f7991e2d5184ed5fb012b6aaf9bea6c1"
  },
  "language_info": {
   "name": "python",
   "version": "3.9.6",
   "mimetype": "text/x-python",
   "codemirror_mode": {
    "name": "ipython",
    "version": 3
   },
   "pygments_lexer": "ipython3",
   "nbconvert_exporter": "python",
   "file_extension": ".py"
  }
 },
 "nbformat": 4,
 "nbformat_minor": 5
}