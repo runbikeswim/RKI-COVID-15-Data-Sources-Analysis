{
 "cells": [
  {
   "cell_type": "markdown",
   "id": "d495d18c",
   "metadata": {},
   "source": [
    "# Compare and Analyze Data on COVID-19 Infections Provided by the [Robert Koch Institute (RKI)](https://www.rki.de/EN/Home/homepage_node.html)"
   ]
  },
  {
   "cell_type": "markdown",
   "id": "419c571b",
   "metadata": {},
   "source": [
    "The [Robert Koch Institute (RKI)](https://www.rki.de/EN/Home/homepage_node.html) is the federal government agency responsible for disease control and prevention in Germany. Is publishes data about COVID-19 for all of Germany and uses various channels for that (see [this](https://www.rki.de/EN/Content/infections/epidemiology/outbreaks/COVID-19/COVID19.html) page for an overview).\n",
    "\n",
    "This notebook has been created for analyzing and comparing data from two different sources that are updated by the RKI daily, but have a different level of detail. The main objective is to understand how the very fine grained numbers provided via github can be aggregated such that they match what is shown in the \n",
    "[RKI's COVID-19 dashboard](https://corona.rki.de/)."
   ]
  },
  {
   "cell_type": "markdown",
   "id": "9c1c1ae1",
   "metadata": {},
   "source": [
    "## Preliminaries"
   ]
  },
  {
   "cell_type": "code",
   "execution_count": null,
   "id": "3bb5733f",
   "metadata": {},
   "outputs": [],
   "source": [
    "import json\n",
    "\n",
    "import datetime as dt\n",
    "import numpy as np\n",
    "import pandas as pd\n",
    "import plotly.express as px\n",
    "\n",
    "import local_constants as LC\n",
    "\n",
    "from urllib.request import urlopen"
   ]
  },
  {
   "cell_type": "markdown",
   "id": "b02c1354",
   "metadata": {},
   "source": [
    "## Load and Analyze Data From the [NPGEO Corona Hub 2020](https://npgeo-corona-npgeo-de.hub.arcgis.com/)"
   ]
  },
  {
   "cell_type": "markdown",
   "id": "c7e92d65",
   "metadata": {},
   "source": [
    "For all German districts, up-to-date COVID-19 data is available via [this](https://opendata.arcgis.com/datasets/917fc37a709542548cc3be077a786c17_0) page. This data appears to be the basis for the [COVID-19 dashboard](https://corona.rki.de/)."
   ]
  },
  {
   "cell_type": "markdown",
   "id": "55acb342",
   "metadata": {},
   "source": [
    "### Read Data"
   ]
  },
  {
   "cell_type": "code",
   "execution_count": null,
   "id": "ced78a0e",
   "metadata": {},
   "outputs": [],
   "source": [
    "# load main data, but restrict the created dataframe to the most relevant columns \n",
    "RKI_ARCGIS_COVID_BY_DISTRICT = \\\n",
    "    pd.read_csv(LC.RKI_ARCGIS_URL, usecols=list(LC.RKI_ARCGIS_COLUMN_NAME_MAPPER.keys()))\\\n",
    "        .rename(columns=LC.RKI_ARCGIS_COLUMN_NAME_MAPPER)\\\n",
    "        .sort_values(by=\"district ID\")\\\n",
    "        .set_index(\"district ID\")\n",
    "\n",
    "# fill missing values\n",
    "RKI_ARCGIS_COVID_BY_DISTRICT.fillna(method=\"pad\", axis=\"index\", inplace=True)\n",
    "\n",
    "# convert to datetime64[ns]\n",
    "RKI_ARCGIS_COVID_BY_DISTRICT[\"update time\"] = pd.to_datetime(RKI_ARCGIS_COVID_BY_DISTRICT[\"update time\"], format=\"%d.%m.%Y, %H:%M Uhr\")\n",
    "\n",
    "# add column for the number of deaths within the last seven days adjusted to a population size of 100.000 people\n",
    "RKI_ARCGIS_COVID_BY_DISTRICT[\"deaths last 7 days per 100k\"] = \\\n",
    "    10**5 * RKI_ARCGIS_COVID_BY_DISTRICT[\"deaths last 7 days\"] \\\n",
    "    / RKI_ARCGIS_COVID_BY_DISTRICT[\"population\"]"
   ]
  },
  {
   "cell_type": "code",
   "execution_count": null,
   "id": "8e9a9326",
   "metadata": {},
   "outputs": [],
   "source": [
    "# print date of most recent entry in the data\n",
    "\n",
    "print(RKI_ARCGIS_COVID_BY_DISTRICT[\"update time\"].max().strftime(\"last update is from %Y-%m-%d\"))"
   ]
  },
  {
   "cell_type": "markdown",
   "id": "c1c7fa22",
   "metadata": {},
   "source": [
    "## Load and Analyze RKI's Data on COVID-19 From [GitHub](https://github.com/robert-koch-institut/SARS-CoV-2_Infektionen_in_Deutschland)"
   ]
  },
  {
   "cell_type": "markdown",
   "id": "87ac92e9",
   "metadata": {},
   "source": [
    "Repository [\"SARS-CoV-2 Infektionen in Deutschland\"](https://github.com/robert-koch-institut/SARS-CoV-2_Infektionen_in_Deutschland) (SARS-CoV-2 Infections in Germany) contains\n",
    "up-to-date numbers of COVID-19 cases in Germany. The data appears to be what is reported by the districts to the RKI as it lists new cases based on the reporting date, beginning of the disease (reference date), age group, sex and district.\n",
    "\n",
    "In [Readme.md](https://github.com/robert-koch-institut/SARS-CoV-2_Infektionen_in_Deutschland/blob/master/Readme.md), an explanation for the data is provided (in German). "
   ]
  },
  {
   "cell_type": "markdown",
   "id": "7f47429e",
   "metadata": {},
   "source": [
    "### Read Metadata"
   ]
  },
  {
   "cell_type": "markdown",
   "id": "39de815d",
   "metadata": {},
   "source": [
    "The RKI publishes metadata based on [zenodo's](https://about.zenodo.org/) JSON format. Here, it is used to detect the publication date of the data. Typically, this is shortly after 3 AM of the current day (local time in Germany). "
   ]
  },
  {
   "cell_type": "code",
   "execution_count": null,
   "id": "d1fd47cd",
   "metadata": {},
   "outputs": [],
   "source": [
    "RKI_GITHUB_METADATA = json.loads(urlopen(LC.RKI_GITHUB_RAW_DATA_BASE_URL + LC.RKI_GITHUB_ZENODO_REL_URL).read())\n",
    "RKI_GITHUB_PUBLICATION_DATE = pd.to_datetime(RKI_GITHUB_METADATA[\"publication_date\"])\n",
    "print(f\"publication date is {RKI_GITHUB_PUBLICATION_DATE:%Y-%m-%d %H:%M:%S%z}\")"
   ]
  },
  {
   "cell_type": "markdown",
   "id": "118c3dea",
   "metadata": {},
   "source": [
    "### Read Data"
   ]
  },
  {
   "cell_type": "markdown",
   "id": "d293a165",
   "metadata": {},
   "source": [
    "Load data describing COVID-19 infections and deaths etc."
   ]
  },
  {
   "cell_type": "code",
   "execution_count": null,
   "id": "fddf6c57",
   "metadata": {},
   "outputs": [],
   "source": [
    "RKI_GITHUB_COVID_INFECTIONS = pd.read_csv(LC.RKI_GITHUB_RAW_DATA_BASE_URL + LC.RKI_GITHUB_COVID_INFECTIONS_REL_URL, \n",
    "                                    converters=LC.RKI_GITHUB_VALUE_CONVERTERS)\\\n",
    "                                .rename(columns=LC.RKI_GITHUB_COLUMN_NAME_MAPPER)\\\n",
    "                                .astype(LC.RKI_GITHUB_COLUMN_TYPES_MAPPER)"
   ]
  },
  {
   "cell_type": "markdown",
   "id": "7405f6d5",
   "metadata": {},
   "source": [
    "### Trying to Understand [Readme.md](https://github.com/robert-koch-institut/SARS-CoV-2_Infektionen_in_Deutschland/blob/master/Readme.md)"
   ]
  },
  {
   "cell_type": "markdown",
   "id": "89f06592",
   "metadata": {},
   "source": [
    "The text in `Readme.md` states that negative values in column `cases` (`AnzahlFall` in the original data) are for correcting positives cases that have been falsely reported in the past. The same is described for columns\n",
    "`deaths` (`AnzahlTodesfall` in the original data) and `recovered` (`AnzahlGenesen` in the original data). \n",
    "\n",
    "This can be interpreted in a way that the correct number of total cases can be computed by simply adding all values of column `cases`, such that negative values \"delete\" the cases reported erroneously before. "
   ]
  },
  {
   "cell_type": "code",
   "execution_count": null,
   "metadata": {},
   "outputs": [],
   "source": [
    "print(\"total cases for Germany considering also negative values:\")\n",
    "print(f' GitHub: {RKI_GITHUB_COVID_INFECTIONS[\"cases\"].sum().sum():,d}')\n",
    "\n",
    "# sum of all cases in the data from ARCGIS\n",
    "print(f' ARCGIS: {RKI_ARCGIS_COVID_BY_DISTRICT[\"cases\"].sum():,d}')"
   ]
  },
  {
   "cell_type": "markdown",
   "id": "1fa680fb",
   "metadata": {},
   "source": [
    "... but this number is **too small**. \n",
    "\n",
    "The number that is shown on the dashboard can be retrieved from the data by adding _all positive values_ in column `cases`. "
   ]
  },
  {
   "cell_type": "code",
   "execution_count": null,
   "id": "3ce74956",
   "metadata": {},
   "outputs": [],
   "source": [
    "print(\"total cases for Germany:\")\n",
    "# print the sum for all positive values in column \"cases\" \n",
    "print(f' GitHub: {RKI_GITHUB_COVID_INFECTIONS.loc[RKI_GITHUB_COVID_INFECTIONS[\"cases\"] > 0, \"cases\"].sum():,d}')\n",
    "# sum of all cases in the data from ARCGIS\n",
    "print(f' ARCGIS: {RKI_ARCGIS_COVID_BY_DISTRICT[\"cases\"].sum():,d}')"
   ]
  },
  {
   "cell_type": "markdown",
   "id": "a26da00a",
   "metadata": {},
   "source": [
    "### Compute Totals"
   ]
  },
  {
   "cell_type": "markdown",
   "id": "cc01486d",
   "metadata": {},
   "source": [
    "Based on the interpretation of the data described above, the sum of columns `cases`, `deaths` and `recovered` is calculated for each district.\n",
    "\n",
    "For the sake of convenience, a new dataframe is defined, in which negative values for the number of COVID-19 cases, deaths and recovered patients are set to zero. This is used later for the aggregation of data."
   ]
  },
  {
   "cell_type": "code",
   "execution_count": null,
   "id": "b85f26b5",
   "metadata": {},
   "outputs": [],
   "source": [
    "# define dataframe that without the negative values in RKI_GITHUB_COVID_INFECTIONS\n",
    "\n",
    "RKI_GITHUB_COVID_INFECTIONS_WITHOUT_NEGATIVES = \\\n",
    "    pd.concat([RKI_GITHUB_COVID_INFECTIONS[[\"district ID\", \"age group\", \"sex\", \"reporting date\", \"reference date\"]], \n",
    "              RKI_GITHUB_COVID_INFECTIONS[[\"cases\", \"deaths\", \"recovered\"]].apply(lambda a: np.maximum(a,0))], \n",
    "              axis=\"columns\")"
   ]
  },
  {
   "cell_type": "code",
   "execution_count": null,
   "id": "cf95b461",
   "metadata": {},
   "outputs": [],
   "source": [
    "#  sum up \"cases\", \"deaths\", \"recovered\" for each district\n",
    "RKI_GITHUB_COVID_BY_DISTRICT_TOTALS = \\\n",
    "    RKI_GITHUB_COVID_INFECTIONS_WITHOUT_NEGATIVES[[\"district ID\", \"cases\", \"deaths\", \"recovered\"]].groupby(by=\"district ID\").sum()\n",
    "\n",
    "# copy population size for each district from RKI_ARCGIS_COVID_BY_DISTRICT\n",
    "RKI_GITHUB_COVID_BY_DISTRICT_TOTALS[\"population\"] = RKI_ARCGIS_COVID_BY_DISTRICT[\"population\"]"
   ]
  },
  {
   "cell_type": "markdown",
   "id": "cd823804",
   "metadata": {},
   "source": [
    "### Compute Numbers per 100K People "
   ]
  },
  {
   "cell_type": "markdown",
   "id": "7e69e6db",
   "metadata": {},
   "source": [
    "The sums in columns `cases`, `deaths` and `recovered` are normalized by the population size of the district. \n",
    "For the district's population size, the data from the [NPGEO Corona Hub 2020](https://npgeo-corona-npgeo-de.hub.arcgis.com/) is used."
   ]
  },
  {
   "cell_type": "code",
   "execution_count": null,
   "id": "f4381c41",
   "metadata": {},
   "outputs": [],
   "source": [
    "# define a new dataframe by dividing the totals by the population size of each district and multiplying that with 100,000\n",
    "\n",
    "RKI_GITHUB_COVID_BY_DISTRICT_PER_100K = \\\n",
    "    pd.DataFrame(data=10**5 * RKI_GITHUB_COVID_BY_DISTRICT_TOTALS[[\"cases\", \"deaths\", \"recovered\"]].values \\\n",
    "                 / np.array(3 * [RKI_GITHUB_COVID_BY_DISTRICT_TOTALS[\"population\"].values]).T,\n",
    "                 index=RKI_GITHUB_COVID_BY_DISTRICT_TOTALS.index,\n",
    "                 columns=[\"cases per 100k\", \"deaths per 100k\", \"recovered per 100k\"])"
   ]
  },
  {
   "cell_type": "markdown",
   "id": "492138df",
   "metadata": {},
   "source": [
    "### Compute Totals for the Last Seven Days"
   ]
  },
  {
   "cell_type": "markdown",
   "id": "241682e5",
   "metadata": {},
   "source": [
    "The values in columns `cases`, `deaths` and `recovered` of the last seven days are summed up."
   ]
  },
  {
   "cell_type": "code",
   "execution_count": null,
   "id": "1234a855",
   "metadata": {},
   "outputs": [],
   "source": [
    "# define the date of the earlist data that should be considered\n",
    "number_of_days = 7 \n",
    "cut_off_date = np.datetime64(RKI_GITHUB_PUBLICATION_DATE.date() - dt.timedelta(days=number_of_days))\n",
    "\n",
    "# compute sums for data that has been reported on or after the cut_off_date\n",
    "RKI_GITHUB_COVID_BY_DISTRICT_LAST_7_DAYS_TOTALS = \\\n",
    "        RKI_GITHUB_COVID_INFECTIONS_WITHOUT_NEGATIVES\\\n",
    "                .loc[RKI_GITHUB_COVID_INFECTIONS_WITHOUT_NEGATIVES[\"reporting date\"] >= cut_off_date]\\\n",
    "                .groupby(by=\"district ID\").sum()\\\n",
    "                .rename(columns={\"cases\": \"cases last 7 days\", \"deaths\": \"deaths last 7 days\", \"recovered\": \"recovered last 7 days\"})\n",
    "\n",
    "# ensure that there is data for each district by filling missing data with zeros\n",
    "# define a dataframe containing the most recent data of each district\n",
    "df = RKI_GITHUB_COVID_INFECTIONS_WITHOUT_NEGATIVES[[\"district ID\", \"reporting date\"]].sort_values(by=[\"district ID\", \"reporting date\"])\\\n",
    "        .groupby([\"district ID\"]).last()\n",
    "\n",
    "missing_rows = df.loc[df[\"reporting date\"] < cut_off_date].index.shape[0]\n",
    "if  missing_rows > 0:\n",
    "    # there are districts that have not reported data within the last 7 days\n",
    "    # create dataframe containing the zeroes filling the missing data \n",
    "    ddf = pd.DataFrame(data=np.zeros((missing_rows, RKI_GITHUB_COVID_BY_DISTRICT_LAST_7_DAYS_TOTALS.shape[1]), dtype=np.int64), \n",
    "                       index=df.loc[df[\"reporting date\"] < cut_off_date].index,\n",
    "                       columns=RKI_GITHUB_COVID_BY_DISTRICT_LAST_7_DAYS_TOTALS.columns)\n",
    "    # append zeros\n",
    "    RKI_GITHUB_COVID_BY_DISTRICT_LAST_7_DAYS_TOTALS = RKI_GITHUB_COVID_BY_DISTRICT_LAST_7_DAYS_TOTALS.append(ddf)"
   ]
  },
  {
   "cell_type": "markdown",
   "id": "dd60cd2f",
   "metadata": {},
   "source": [
    "### Compute Numbers for the Last Seven Days per 100K People "
   ]
  },
  {
   "cell_type": "markdown",
   "id": "fec92cd7",
   "metadata": {},
   "source": [
    "Normalize the sums for the last seven days by the districts' population size "
   ]
  },
  {
   "cell_type": "code",
   "execution_count": null,
   "id": "d77a4e46",
   "metadata": {},
   "outputs": [],
   "source": [
    "# define a new dataframe computing values by dividing the totals for the last seven days by the population size \n",
    "# of each district and multiplying it with 100,000\n",
    " \n",
    "RKI_GITHUB_COVID_BY_DISTRICT_LAST_7_DAYS_PER_100K = \\\n",
    "    pd.DataFrame(data=10**5 * RKI_GITHUB_COVID_BY_DISTRICT_LAST_7_DAYS_TOTALS.values / np.array(3 * \\\n",
    "        [RKI_GITHUB_COVID_BY_DISTRICT_TOTALS.loc[RKI_GITHUB_COVID_BY_DISTRICT_LAST_7_DAYS_TOTALS.index, \"population\"]]).T,\n",
    "        index=RKI_GITHUB_COVID_BY_DISTRICT_LAST_7_DAYS_TOTALS.index,\n",
    "        columns=[\"cases last 7 days per 100k\", \"deaths last 7 days per 100k\", \"recovered last 7 days per 100k\"])"
   ]
  },
  {
   "cell_type": "markdown",
   "id": "56595240",
   "metadata": {},
   "source": [
    "### Create a DataFrame Containing all Values Derived From the COVID-19 Data from GitHub"
   ]
  },
  {
   "cell_type": "code",
   "execution_count": null,
   "id": "729be218",
   "metadata": {},
   "outputs": [],
   "source": [
    "# combine all of the dataframes with data that has been derived from RKI_GITHUB_COVID_INFECTIONS into one dataframe, \n",
    "# only columns \"district name\" and \"state name\" are taken from RKI_ARCGIS_COVID_BY_DISTRICT\n",
    "\n",
    "RKI_GITHUB_COVID_BY_DISTRICT = \\\n",
    "    pd.concat([RKI_ARCGIS_COVID_BY_DISTRICT[[\"district name\", \"state name\"]],\n",
    "               RKI_GITHUB_COVID_BY_DISTRICT_TOTALS, \n",
    "               RKI_GITHUB_COVID_BY_DISTRICT_PER_100K, \n",
    "               RKI_GITHUB_COVID_BY_DISTRICT_LAST_7_DAYS_TOTALS,\n",
    "               RKI_GITHUB_COVID_BY_DISTRICT_LAST_7_DAYS_PER_100K], axis=\"columns\")"
   ]
  },
  {
   "cell_type": "markdown",
   "id": "bdc47269",
   "metadata": {},
   "source": [
    "## Verify that Derived Data From the [COVID-19 Data from GitHub](https://github.com/robert-koch-institut/SARS-CoV-2_Infektionen_in_Deutschland) and the Data From [NPGEO Corona Hub 2020](https://npgeo-corona-npgeo-de.hub.arcgis.com/) are (More or Less) Identical"
   ]
  },
  {
   "cell_type": "code",
   "execution_count": null,
   "id": "0971f84f",
   "metadata": {},
   "outputs": [],
   "source": [
    "EPSILON = 10**-11 # threshold for treating float values as zero\n",
    "common_columns = list(set(RKI_ARCGIS_COVID_BY_DISTRICT.columns) & set(RKI_GITHUB_COVID_BY_DISTRICT.columns)) \n",
    "common_numerical_columns = [c for c in common_columns if RKI_GITHUB_COVID_BY_DISTRICT[c].dtypes != object]\n",
    "\n",
    "# return True, if all the differences between the absolute values in the common numerical columns is smaller than the threshold\n",
    "\n",
    "np.amax(np.abs(RKI_ARCGIS_COVID_BY_DISTRICT[common_numerical_columns].values \\\n",
    "    - RKI_GITHUB_COVID_BY_DISTRICT[common_numerical_columns].values)) < EPSILON"
   ]
  },
  {
   "cell_type": "markdown",
   "id": "e4e3b7e2",
   "metadata": {},
   "source": [
    "## Show Some Data"
   ]
  },
  {
   "cell_type": "markdown",
   "id": "dd2fb717",
   "metadata": {},
   "source": [
    "Based on the result of the verification above, it seems that the interpretation of the data that is provided via GitHub is correct ... or at least identical with what is shown\n",
    "in the COVID-19 Dashboard. Hence, the following list the most affected districts in Germany can be assumed to be correct."
   ]
  },
  {
   "cell_type": "code",
   "execution_count": null,
   "id": "19817d10",
   "metadata": {},
   "outputs": [],
   "source": [
    "n = 30\n",
    "RKI_GITHUB_COVID_BY_DISTRICT.sort_values(by=\"cases last 7 days per 100k\", ascending=False)\\\n",
    "    .head(n).style.hide_index().format(LC.FORMAT_MAPPER)"
   ]
  },
  {
   "cell_type": "markdown",
   "id": "e85eedd7",
   "metadata": {},
   "source": [
    "Show sums by state"
   ]
  },
  {
   "cell_type": "code",
   "execution_count": null,
   "id": "3e7fd257",
   "metadata": {},
   "outputs": [],
   "source": [
    "base_columns = [\"cases\", \"deaths\", \"recovered\"]\n",
    "last_7_days_columns = [c + \" last 7 days\" for c in base_columns]\n",
    "index_column = \"state name\"\n",
    "columns = [index_column, \"population\"] + base_columns + last_7_days_columns\n",
    "RKI_GITHUB_COVID_BY_STATE = RKI_GITHUB_COVID_BY_DISTRICT[columns].groupby(by=index_column).sum()\n",
    "\n",
    "per_100k_columns = [c + \" per 100k\" for c in base_columns]\n",
    "last_7_days_per_100k_columns = [c + \" per 100k\" for c in last_7_days_columns]\n",
    "RKI_GITHUB_COVID_BY_STATE[per_100k_columns + last_7_days_per_100k_columns] = \\\n",
    "    10**5 * RKI_GITHUB_COVID_BY_STATE[base_columns + last_7_days_columns].values\\\n",
    "        / np.array(6 * [RKI_GITHUB_COVID_BY_STATE[\"population\"]]).T\n",
    "RKI_GITHUB_COVID_BY_STATE.style.format(LC.FORMAT_MAPPER)"
   ]
  },
  {
   "cell_type": "markdown",
   "id": "4d71fcc9",
   "metadata": {},
   "source": [
    "Equally, the following totals for all of Germany appear correct"
   ]
  },
  {
   "cell_type": "code",
   "execution_count": null,
   "id": "277650fb",
   "metadata": {},
   "outputs": [],
   "source": [
    "columns = [\"population\", \"cases\", \"cases last 7 days\", \"deaths\", \"deaths last 7 days\", \"recovered\", \"recovered last 7 days\"]\n",
    "RKI_GITHUB_COVID_BY_DISTRICT[columns].sum().to_frame().T.style.hide_index().format(LC.FORMAT_MAPPER)"
   ]
  },
  {
   "cell_type": "markdown",
   "id": "b4f1e1b2",
   "metadata": {},
   "source": [
    "Likewise, the sums for the last 7 days per 100,000 people can be computed"
   ]
  },
  {
   "cell_type": "code",
   "execution_count": null,
   "id": "cd6aae53",
   "metadata": {},
   "outputs": [],
   "source": [
    "columns = [\"cases last 7 days\", \"deaths last 7 days\", \"recovered last 7 days\"]\n",
    "(10**5 * RKI_GITHUB_COVID_BY_DISTRICT[columns].sum() / RKI_GITHUB_COVID_BY_DISTRICT[\"population\"].sum())\\\n",
    "    .to_frame().T.rename(columns={c:c+\" per 100k\" for c in columns}).style.hide_index().format(LC.FORMAT_MAPPER)"
   ]
  },
  {
   "cell_type": "markdown",
   "id": "87e4867e",
   "metadata": {},
   "source": [
    "For the increase in the numbers of cases, deaths and recovered people within the last day, the data for the previous day is loaded and subtracted from the totals of the current day."
   ]
  },
  {
   "cell_type": "code",
   "execution_count": null,
   "id": "f985d4eb",
   "metadata": {},
   "outputs": [],
   "source": [
    "PREVIOUS_DAY = pd.Timestamp(RKI_GITHUB_PUBLICATION_DATE.date() - dt.timedelta(days=1))\n",
    "RKI_GITHUB_COVID_INFECTIONS_PREVIOUS_DAY \\\n",
    "    = pd.read_csv(LC.RKI_GITHUB_RAW_DATA_BASE_URL + \"/Archiv\" + \\\n",
    "                  PREVIOUS_DAY.strftime(\"/%Y-%m-%d_Deutschland_SarsCov2_Infektionen.csv\"), \n",
    "                  converters=LC.RKI_GITHUB_VALUE_CONVERTERS)\\\n",
    "        .rename(columns=LC.RKI_GITHUB_COLUMN_NAME_MAPPER)\\\n",
    "        .astype(LC.RKI_GITHUB_COLUMN_TYPES_MAPPER)\n",
    "\n",
    "RKI_GITHUB_COVID_INFECTIONS_PREVIOUS_DAY_WITHOUT_NEGATIVES = \\\n",
    "    pd.concat([RKI_GITHUB_COVID_INFECTIONS_PREVIOUS_DAY[[\"district ID\", \"age group\", \"sex\", \"reporting date\", \"reference date\"]], \n",
    "               RKI_GITHUB_COVID_INFECTIONS_PREVIOUS_DAY[[\"cases\", \"deaths\", \"recovered\"]].apply(lambda a: np.maximum(a,0))], \n",
    "               axis=\"columns\")\n",
    "               \n",
    "(RKI_GITHUB_COVID_INFECTIONS_WITHOUT_NEGATIVES[[\"cases\", \"deaths\", \"recovered\"]].sum() \n",
    "    - RKI_GITHUB_COVID_INFECTIONS_PREVIOUS_DAY_WITHOUT_NEGATIVES[[\"cases\", \"deaths\", \"recovered\"]].sum())\\\n",
    "        .to_frame().T.style.hide_index().format(LC.FORMAT_MAPPER)"
   ]
  },
  {
   "cell_type": "markdown",
   "id": "21b7e333",
   "metadata": {},
   "source": [
    "### Compute Totals by Age Group and Sex"
   ]
  },
  {
   "cell_type": "markdown",
   "id": "dc48fddf",
   "metadata": {},
   "source": [
    "In order to close this notebook with something that is not mysterious, the total number of cases, deaths and recovered people is computed by age group and sex. \n",
    "This is again in sync with the data of the COVID-19 dashboard."
   ]
  },
  {
   "cell_type": "code",
   "execution_count": null,
   "id": "e3bdb362",
   "metadata": {},
   "outputs": [],
   "source": [
    "RKI_GITHUB_COVID_BY_AGE_GROUP_AND_SEX_TOTALS = \\\n",
    "    RKI_GITHUB_COVID_INFECTIONS_WITHOUT_NEGATIVES[[\"age group\", \"sex\", \"cases\", \"deaths\", \"recovered\"]]\\\n",
    "        .groupby(by=[\"age group\", \"sex\"]).sum()\n",
    "RKI_GITHUB_COVID_BY_AGE_GROUP_AND_SEX_TOTALS.style.format(LC.FORMAT_MAPPER)"
   ]
  },
  {
   "cell_type": "markdown",
   "metadata": {},
   "source": [
    "## Compare RKI Data with WHO Data"
   ]
  },
  {
   "cell_type": "code",
   "execution_count": null,
   "metadata": {},
   "outputs": [],
   "source": [
    "WHO_COVID_WORLDWIDE = pd.read_csv(\"https://covid19.who.int/WHO-COVID-19-global-data.csv\", parse_dates=[\"Date_reported\"])\\\n",
    "                        .rename(columns=LC.WHO_COLUMN_NAME_MAPPER).set_index(\"reporting date\")"
   ]
  },
  {
   "cell_type": "code",
   "execution_count": null,
   "metadata": {},
   "outputs": [],
   "source": [
    "WHO_COVID_WORLDWIDE[WHO_COVID_WORLDWIDE[\"country\"] == \"Germany\"][[\"cases\", \"deaths\"]]"
   ]
  },
  {
   "cell_type": "code",
   "execution_count": null,
   "metadata": {},
   "outputs": [],
   "source": [
    "df1 = RKI_GITHUB_COVID_INFECTIONS[[\"reporting date\", \"cases\", \"deaths\"]].groupby(by=\"reporting date\").sum()\n",
    "df2 = WHO_COVID_WORLDWIDE[WHO_COVID_WORLDWIDE[\"country\"] == \"Germany\"][[\"cases\", \"deaths\"]]\n",
    "r = pd.date_range(start=max(df1.index.min(), df2.index.min()), end=min(df1.index.max(), df2.index.max()))"
   ]
  }
 ],
 "metadata": {
  "hide_input": false,
  "interpreter": {
   "hash": "ac59ebe37160ed0dfa835113d9b8498d9f09ceb179beaac4002f036b9467c963"
  },
  "kernelspec": {
   "display_name": "Python 3.9.7 64-bit",
   "name": "python3"
  },
  "language_info": {
   "codemirror_mode": {
    "name": "ipython",
    "version": 3
   },
   "file_extension": ".py",
   "mimetype": "text/x-python",
   "name": "python",
   "nbconvert_exporter": "python",
   "pygments_lexer": "ipython3",
   "version": "3.9.7"
  }
 },
 "nbformat": 4,
 "nbformat_minor": 5
}
